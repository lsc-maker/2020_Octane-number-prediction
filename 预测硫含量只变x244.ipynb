{
 "cells": [
  {
   "cell_type": "code",
   "execution_count": 1,
   "metadata": {},
   "outputs": [],
   "source": [
    "import warnings\n",
    "warnings.filterwarnings('ignore')\n",
    "\n",
    "import pandas as pd\n",
    "import numpy as np\n",
    "import matplotlib.pyplot as plt\n",
    "import seaborn as sns\n",
    "import missingno as msno\n",
    "from sklearn.linear_model import Ridge\n",
    "pd.set_option('display.max_columns', None)\n",
    "pd.set_option('display.max_rows', None)\n",
    "pd.set_option('max_colwidth',100)\n",
    "\n",
    "data = pd.read_csv('delete3_2.csv', sep=',')\n",
    "\n",
    "Y1 = data['y1']\n",
    "Y2 = data['y2']\n",
    "X = data[['x320', 'x182', 'x61', 'x54', 'x239', 'x244']]\n",
    "\n",
    "clf1 = Ridge()\n",
    "clf1.fit(X, Y1)\n",
    "clf2 = Ridge()\n",
    "clf2.fit(X, Y2)\n",
    "\n",
    "x = np.array([0.6895, 270.3794, 369.3962, 61.52, 8.8463, -0.4479]).reshape(1, -1)\n",
    "\n",
    "result = []\n",
    "y_pred = clf1.predict(x)\n",
    "result.append(y_pred)\n",
    "for i in range(26):\n",
    "    if x[0][5]<25:\n",
    "        x[0][5] = x[0][5]+1\n",
    "    result.append(clf1.predict(x))\n",
    "\n",
    "result = pd.DataFrame(result)"
   ]
  },
  {
   "cell_type": "code",
   "execution_count": 2,
   "metadata": {},
   "outputs": [],
   "source": [
    "result.to_csv('133硫含量只变x244.csv')"
   ]
  },
  {
   "cell_type": "code",
   "execution_count": null,
   "metadata": {},
   "outputs": [],
   "source": []
  }
 ],
 "metadata": {
  "kernelspec": {
   "display_name": "Python 3",
   "language": "python",
   "name": "python3"
  },
  "language_info": {
   "codemirror_mode": {
    "name": "ipython",
    "version": 3
   },
   "file_extension": ".py",
   "mimetype": "text/x-python",
   "name": "python",
   "nbconvert_exporter": "python",
   "pygments_lexer": "ipython3",
   "version": "3.7.6"
  }
 },
 "nbformat": 4,
 "nbformat_minor": 4
}
