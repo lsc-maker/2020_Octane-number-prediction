{
 "cells": [
  {
   "cell_type": "code",
   "execution_count": 1,
   "metadata": {},
   "outputs": [],
   "source": [
    "import warnings\n",
    "warnings.filterwarnings('ignore')\n",
    "\n",
    "import pandas as pd\n",
    "import numpy as np\n",
    "import matplotlib.pyplot as plt\n",
    "import seaborn as sns\n",
    "import missingno as msno\n",
    "#显示所有列\n",
    "pd.set_option('display.max_columns', None)\n",
    "#显示所有行\n",
    "pd.set_option('display.max_rows', None)\n",
    "#设置value的显示长度为100，默认为50\n",
    "pd.set_option('max_colwidth',100)\n",
    "\n",
    "def reduce_mem_usage(df):\n",
    "\n",
    "    start_mem = df.memory_usage().sum() \n",
    "    print('Memory usage of dataframe is {:.2f} MB'.format(start_mem))\n",
    "    \n",
    "    for col in df.columns:\n",
    "        col_type = df[col].dtype\n",
    "        \n",
    "        if col_type != object:\n",
    "            c_min = df[col].min()\n",
    "            c_max = df[col].max()\n",
    "            if str(col_type)[:3] == 'int':\n",
    "                if c_min > np.iinfo(np.int8).min and c_max < np.iinfo(np.int8).max:\n",
    "                    df[col] = df[col].astype(np.int8)\n",
    "                elif c_min > np.iinfo(np.int16).min and c_max < np.iinfo(np.int16).max:\n",
    "                    df[col] = df[col].astype(np.int16)\n",
    "                elif c_min > np.iinfo(np.int32).min and c_max < np.iinfo(np.int32).max:\n",
    "                    df[col] = df[col].astype(np.int32)\n",
    "                elif c_min > np.iinfo(np.int64).min and c_max < np.iinfo(np.int64).max:\n",
    "                    df[col] = df[col].astype(np.int64)  \n",
    "            else:\n",
    "                if c_min > np.finfo(np.float16).min and c_max < np.finfo(np.float16).max:\n",
    "                    df[col] = df[col].astype(np.float16)\n",
    "                elif c_min > np.finfo(np.float32).min and c_max < np.finfo(np.float32).max:\n",
    "                    df[col] = df[col].astype(np.float32)\n",
    "                else:\n",
    "                    df[col] = df[col].astype(np.float64)\n",
    "        else:\n",
    "            df[col] = df[col].astype('category')\n",
    "\n",
    "    end_mem = df.memory_usage().sum() \n",
    "    print('Memory usage after optimization is: {:.2f} MB'.format(end_mem))\n",
    "    print('Decreased by {:.1f}%'.format(100 * (start_mem - end_mem) / start_mem))\n",
    "    return df\n",
    "\n",
    "import lightgbm as lgb\n",
    "import xgboost as xgb\n",
    "from catboost import CatBoostRegressor\n",
    "from sklearn.linear_model import SGDRegressor, Lasso, Ridge\n",
    "from sklearn.preprocessing import MinMaxScaler, StandardScaler\n",
    "from sklearn.metrics import mean_absolute_error, mean_squared_error\n",
    "import warnings\n",
    "from sklearn.ensemble import RandomForestRegressor as rf\n",
    "from sklearn.model_selection import train_test_split\n",
    "from sklearn.svm import SVR\n",
    "from sklearn.pipeline import make_pipeline\n",
    "warnings.filterwarnings('ignore')\n",
    "\n",
    "def single_model(clf, XX, YY, clf_name, class_num=1):\n",
    "    train = np.zeros((XX.shape[0], class_num))\n",
    "\n",
    "\n",
    "    if clf_name == 'rf':\n",
    "        params = {\n",
    "            \"max_depth\": 9,\n",
    "            \"max_features\": 0.4717,\n",
    "            'min_samples_split': 15,\n",
    "            'n_estimators': 36\n",
    "        }\n",
    "        model = clf(**params)\n",
    "        model.fit(XX, YY)\n",
    "#         val_pred = model.predict(x_test)\n",
    "        y_pred = model.predict(XX)\n",
    "\n",
    "    if clf_name == \"ridge\":\n",
    "        params = {\n",
    "            'alpha': 1.0,\n",
    "            'random_state': 2020,\n",
    "        }\n",
    "        model = Ridge(**params)\n",
    "        model.fit(XX, YY)\n",
    "#         val_pred = model.predict(x_test)\n",
    "        y_pred = model.predict(XX)\n",
    "        print(model.coef_)\n",
    "        print(model.intercept_)\n",
    "\n",
    "\n",
    "    print(\"%s_train_mse_score:\" % clf_name, mean_squared_error(y_pred, YY))\n",
    "\n",
    "    return mean_squared_error(y_pred, YY), mean_squared_error(y_pred, YY)**0.5, mean_absolute_error(y_pred, YY), y_pred\n",
    "\n",
    "def rf_model(x, y):\n",
    "    rf_mse, rf_rmse, rf_mae, rf_pred = single_model(rf, x, y, 'rf')\n",
    "    return rf_mse, rf_rmse, rf_mae, rf_pred.reshape(-1,1)\n",
    "\n",
    "\n",
    "def ridge_model(x, y):\n",
    "    ridge_mse, ridge_rmse, ridge_mae, ridge_pred = single_model(Ridge, x, y, \"ridge\")\n",
    "    return ridge_mse, ridge_rmse, ridge_mae, ridge_pred.reshape(-1,1)"
   ]
  },
  {
   "cell_type": "code",
   "execution_count": 2,
   "metadata": {},
   "outputs": [
    {
     "name": "stdout",
     "output_type": "stream",
     "text": [
      "Memory usage of dataframe is 553928.00 MB\n",
      "Memory usage after optimization is: 147028.00 MB\n",
      "Decreased by 73.5%\n"
     ]
    }
   ],
   "source": [
    "data = pd.read_csv('data1.csv', sep=',')\n",
    "data = reduce_mem_usage(data)\n",
    "\n",
    "endl_name = ['x77', 'x30', 'x33', 'x61', 'x26', 'x2', 'x274', 'x6', 'x28', 'x54', 'x162', 'x320', 'x315', 'x245', 'x273', 'x191', 'x169', 'x130', 'x182', 'x317', 'x123', 'x4', 'x174', 'x16']\n",
    "\n",
    "X = data[endl_name]\n",
    "Y = data['y']"
   ]
  },
  {
   "cell_type": "code",
   "execution_count": 3,
   "metadata": {},
   "outputs": [
    {
     "name": "stdout",
     "output_type": "stream",
     "text": [
      "rf_train_mse_score: 0.01810238991020269\n"
     ]
    }
   ],
   "source": [
    "rf_mse, rf_rmse, rf_mae, rf_pred = rf_model(X, Y)"
   ]
  },
  {
   "cell_type": "code",
   "execution_count": 4,
   "metadata": {},
   "outputs": [
    {
     "name": "stdout",
     "output_type": "stream",
     "text": [
      "[-2.95892224e-03  1.23582804e-02 -1.46706264e-05  9.19944543e-03\n",
      "  3.63400427e-03  1.85652806e-02  1.48860607e-02 -7.05277325e-04\n",
      " -4.76265524e-04  4.75708446e-03 -3.03500505e-03  1.34083163e-04\n",
      "  2.30983382e-02  2.51450195e-03 -1.48394535e-02  3.63871085e-06\n",
      "  1.26824977e-03 -3.76765635e-02 -9.02184658e-04 -5.00292321e-03\n",
      " -2.75366429e-04 -1.71185407e-03 -4.21473215e-05  5.76510919e-03]\n",
      "-3.97155483543749\n",
      "ridge_train_mse_score: 0.03779041719557484\n"
     ]
    }
   ],
   "source": [
    "ridge_mse, ridge_rmse, ridge_mae, ridge_pred = ridge_model(X, Y)"
   ]
  },
  {
   "cell_type": "code",
   "execution_count": 5,
   "metadata": {},
   "outputs": [],
   "source": [
    "rf_w = (1/rf_mse) / (1/rf_mse + 1/ridge_mse)\n",
    "ridge_w = (1/ridge_mse) / (1/rf_mse + 1/ridge_mse)"
   ]
  },
  {
   "cell_type": "code",
   "execution_count": 6,
   "metadata": {},
   "outputs": [],
   "source": [
    "rf_ridge_pred = rf_w*rf_pred + ridge_w*ridge_pred"
   ]
  },
  {
   "cell_type": "code",
   "execution_count": 7,
   "metadata": {},
   "outputs": [
    {
     "data": {
      "text/plain": [
       "(0.022811955263380344, 0.15103627135023012, 0.11117636899842677)"
      ]
     },
     "execution_count": 7,
     "metadata": {},
     "output_type": "execute_result"
    }
   ],
   "source": [
    "mean_squared_error(rf_ridge_pred, Y), mean_squared_error(rf_ridge_pred, Y)**0.5, mean_absolute_error(rf_ridge_pred, Y)"
   ]
  },
  {
   "cell_type": "code",
   "execution_count": null,
   "metadata": {},
   "outputs": [],
   "source": []
  },
  {
   "cell_type": "code",
   "execution_count": null,
   "metadata": {},
   "outputs": [],
   "source": []
  }
 ],
 "metadata": {
  "kernelspec": {
   "display_name": "Python 3",
   "language": "python",
   "name": "python3"
  },
  "language_info": {
   "codemirror_mode": {
    "name": "ipython",
    "version": 3
   },
   "file_extension": ".py",
   "mimetype": "text/x-python",
   "name": "python",
   "nbconvert_exporter": "python",
   "pygments_lexer": "ipython3",
   "version": "3.7.6"
  }
 },
 "nbformat": 4,
 "nbformat_minor": 4
}