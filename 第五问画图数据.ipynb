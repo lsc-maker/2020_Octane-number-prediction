{
 "cells": [
  {
   "cell_type": "code",
   "execution_count": 4,
   "metadata": {},
   "outputs": [
    {
     "name": "stdout",
     "output_type": "stream",
     "text": [
      "Memory usage of dataframe is 30368.00 MB\n",
      "Memory usage after optimization is: 7688.00 MB\n",
      "Decreased by 74.7%\n"
     ]
    }
   ],
   "source": [
    "import warnings\n",
    "warnings.filterwarnings('ignore')\n",
    "\n",
    "import pandas as pd\n",
    "import numpy as np\n",
    "import matplotlib.pyplot as plt\n",
    "import seaborn as sns\n",
    "import missingno as msno\n",
    "from sklearn.linear_model import Ridge\n",
    "#显示所有列\n",
    "pd.set_option('display.max_columns', None)\n",
    "#显示所有行\n",
    "pd.set_option('display.max_rows', None)\n",
    "#设置value的显示长度为100，默认为50\n",
    "pd.set_option('max_colwidth',100)\n",
    "\n",
    "def reduce_mem_usage(df):\n",
    "\n",
    "    start_mem = df.memory_usage().sum() \n",
    "    print('Memory usage of dataframe is {:.2f} MB'.format(start_mem))\n",
    "    \n",
    "    for col in df.columns:\n",
    "        col_type = df[col].dtype\n",
    "        \n",
    "        if col_type != object:\n",
    "            c_min = df[col].min()\n",
    "            c_max = df[col].max()\n",
    "            if str(col_type)[:3] == 'int':\n",
    "                if c_min > np.iinfo(np.int8).min and c_max < np.iinfo(np.int8).max:\n",
    "                    df[col] = df[col].astype(np.int8)\n",
    "                elif c_min > np.iinfo(np.int16).min and c_max < np.iinfo(np.int16).max:\n",
    "                    df[col] = df[col].astype(np.int16)\n",
    "                elif c_min > np.iinfo(np.int32).min and c_max < np.iinfo(np.int32).max:\n",
    "                    df[col] = df[col].astype(np.int32)\n",
    "                elif c_min > np.iinfo(np.int64).min and c_max < np.iinfo(np.int64).max:\n",
    "                    df[col] = df[col].astype(np.int64)  \n",
    "            else:\n",
    "                if c_min > np.finfo(np.float16).min and c_max < np.finfo(np.float16).max:\n",
    "                    df[col] = df[col].astype(np.float16)\n",
    "                elif c_min > np.finfo(np.float32).min and c_max < np.finfo(np.float32).max:\n",
    "                    df[col] = df[col].astype(np.float32)\n",
    "                else:\n",
    "                    df[col] = df[col].astype(np.float64)\n",
    "        else:\n",
    "            df[col] = df[col].astype('category')\n",
    "\n",
    "    end_mem = df.memory_usage().sum() \n",
    "    print('Memory usage after optimization is: {:.2f} MB'.format(end_mem))\n",
    "    print('Decreased by {:.1f}%'.format(100 * (start_mem - end_mem) / start_mem))\n",
    "    return df\n",
    "\n",
    "data = pd.read_csv('delete3_2.csv', sep=',')\n",
    "data = reduce_mem_usage(data)\n",
    "\n",
    "Y1 = data['y1']\n",
    "Y2 = data['y2']\n",
    "X = data[['x320', 'x182', 'x61', 'x54', 'x239', 'x244']]\n",
    "\n",
    "clf1 = Ridge()\n",
    "clf1.fit(X, Y1)\n",
    "clf2 = Ridge()\n",
    "clf2.fit(X, Y2)\n",
    "\n",
    "x = np.array([0.6895, 270.3794, 369.3962, 61.52, 8.8463, -0.4479]).reshape(1, -1)"
   ]
  },
  {
   "cell_type": "code",
   "execution_count": 5,
   "metadata": {},
   "outputs": [],
   "source": [
    "result_xinwan_all_adj = []\n",
    "y_pred = clf2.predict(x)\n",
    "result_xinwan_all_adj.append(y_pred)\n",
    "for i in range(150):\n",
    "    if x[0][0]<300:\n",
    "        x[0][0] = x[0][0]+2\n",
    "    if x[0][1]>1.5:\n",
    "        x[0][1] = x[0][1]-10\n",
    "    if x[0][2]>362.9693:\n",
    "        x[0][2] = x[0][2] - 1\n",
    "    if x[0][3]>35:\n",
    "        x[0][3] = x[0][3] - 1\n",
    "    if x[0][4]<12:\n",
    "        x[0][4] = x[0][4] + 1\n",
    "    if x[0][5]<25:\n",
    "        x[0][5] = x[0][5] + 1\n",
    "    result_xinwan_all_adj.append(clf2.predict(x))\n",
    "    \n",
    "result_xinwan_all_adj = pd.DataFrame(result_xinwan_all_adj)"
   ]
  },
  {
   "cell_type": "code",
   "execution_count": 7,
   "metadata": {},
   "outputs": [],
   "source": [
    "result_xinwan_all_adj.to_csv('六个变量一起调整预测辛烷值.csv')"
   ]
  },
  {
   "cell_type": "code",
   "execution_count": 8,
   "metadata": {},
   "outputs": [
    {
     "data": {
      "text/plain": [
       "array([[300.6895,   0.3794, 362.3962,  34.52  ,  12.8463,  25.5521]])"
      ]
     },
     "execution_count": 8,
     "metadata": {},
     "output_type": "execute_result"
    }
   ],
   "source": [
    "x"
   ]
  },
  {
   "cell_type": "code",
   "execution_count": null,
   "metadata": {},
   "outputs": [],
   "source": []
  }
 ],
 "metadata": {
  "kernelspec": {
   "display_name": "Python 3",
   "language": "python",
   "name": "python3"
  },
  "language_info": {
   "codemirror_mode": {
    "name": "ipython",
    "version": 3
   },
   "file_extension": ".py",
   "mimetype": "text/x-python",
   "name": "python",
   "nbconvert_exporter": "python",
   "pygments_lexer": "ipython3",
   "version": "3.7.6"
  }
 },
 "nbformat": 4,
 "nbformat_minor": 4
}