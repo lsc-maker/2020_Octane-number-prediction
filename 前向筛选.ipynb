{
 "cells": [
  {
   "cell_type": "code",
   "execution_count": 32,
   "metadata": {},
   "outputs": [
    {
     "name": "stdout",
     "output_type": "stream",
     "text": [
      "Memory usage of dataframe is 30368.00 MB\n",
      "Memory usage after optimization is: 7688.00 MB\n",
      "Decreased by 74.7%\n"
     ]
    }
   ],
   "source": [
    "import warnings\n",
    "warnings.filterwarnings('ignore')\n",
    "\n",
    "import pandas as pd\n",
    "import numpy as np\n",
    "import matplotlib.pyplot as plt\n",
    "import seaborn as sns\n",
    "import missingno as msno\n",
    "#显示所有列\n",
    "pd.set_option('display.max_columns', None)\n",
    "#显示所有行\n",
    "pd.set_option('display.max_rows', None)\n",
    "#设置value的显示长度为100，默认为50\n",
    "pd.set_option('max_colwidth',100)\n",
    "\n",
    "def reduce_mem_usage(df):\n",
    "\n",
    "    start_mem = df.memory_usage().sum() \n",
    "    print('Memory usage of dataframe is {:.2f} MB'.format(start_mem))\n",
    "    \n",
    "    for col in df.columns:\n",
    "        col_type = df[col].dtype\n",
    "        \n",
    "        if col_type != object:\n",
    "            c_min = df[col].min()\n",
    "            c_max = df[col].max()\n",
    "            if str(col_type)[:3] == 'int':\n",
    "                if c_min > np.iinfo(np.int8).min and c_max < np.iinfo(np.int8).max:\n",
    "                    df[col] = df[col].astype(np.int8)\n",
    "                elif c_min > np.iinfo(np.int16).min and c_max < np.iinfo(np.int16).max:\n",
    "                    df[col] = df[col].astype(np.int16)\n",
    "                elif c_min > np.iinfo(np.int32).min and c_max < np.iinfo(np.int32).max:\n",
    "                    df[col] = df[col].astype(np.int32)\n",
    "                elif c_min > np.iinfo(np.int64).min and c_max < np.iinfo(np.int64).max:\n",
    "                    df[col] = df[col].astype(np.int64)  \n",
    "            else:\n",
    "                if c_min > np.finfo(np.float16).min and c_max < np.finfo(np.float16).max:\n",
    "                    df[col] = df[col].astype(np.float16)\n",
    "                elif c_min > np.finfo(np.float32).min and c_max < np.finfo(np.float32).max:\n",
    "                    df[col] = df[col].astype(np.float32)\n",
    "                else:\n",
    "                    df[col] = df[col].astype(np.float64)\n",
    "        else:\n",
    "            df[col] = df[col].astype('category')\n",
    "\n",
    "    end_mem = df.memory_usage().sum() \n",
    "    print('Memory usage after optimization is: {:.2f} MB'.format(end_mem))\n",
    "    print('Decreased by {:.1f}%'.format(100 * (start_mem - end_mem) / start_mem))\n",
    "    return df\n",
    "\n",
    "data = pd.read_csv('delete3_2.csv', sep=',')\n",
    "data = reduce_mem_usage(data)"
   ]
  },
  {
   "cell_type": "code",
   "execution_count": 33,
   "metadata": {},
   "outputs": [],
   "source": [
    "Y1 = data['y1']\n",
    "Y2 = data['y2']\n",
    "X = data[['x320', 'x182', 'x61', 'x54', 'x239', 'x244']]"
   ]
  },
  {
   "cell_type": "code",
   "execution_count": 34,
   "metadata": {},
   "outputs": [
    {
     "data": {
      "text/plain": [
       "Ridge(alpha=1.0, copy_X=True, fit_intercept=True, max_iter=None,\n",
       "      normalize=False, random_state=None, solver='auto', tol=0.001)"
      ]
     },
     "execution_count": 34,
     "metadata": {},
     "output_type": "execute_result"
    }
   ],
   "source": [
    "clf1 = Ridge()\n",
    "clf1.fit(X, Y1)\n",
    "clf2 = Ridge()\n",
    "clf2.fit(X, Y2)"
   ]
  },
  {
   "cell_type": "code",
   "execution_count": 90,
   "metadata": {},
   "outputs": [],
   "source": [
    "x = np.array([0.6895, 270.3794, 369.3962, 61.52, 8.8463, -0.4479]).reshape(1, -1)\n",
    "result = []"
   ]
  },
  {
   "cell_type": "code",
   "execution_count": 91,
   "metadata": {},
   "outputs": [],
   "source": [
    "y_pred = clf2.predict(x)\n",
    "result.append(y_pred)\n",
    "for i in range(150):\n",
    "    if x[0][0]<300:\n",
    "        x[0][0] = x[0][0]+2\n",
    "    if x[0][1]>1.5:\n",
    "        x[0][1] = x[0][1]-10\n",
    "    if x[0][2]>362.9693:\n",
    "        x[0][2] = x[0][2] - 1\n",
    "    if x[0][3]>35:\n",
    "        x[0][3] = x[0][3] - 1\n",
    "    if x[0][4]<12:\n",
    "        x[0][4] = x[0][4] + 1\n",
    "    if x[0][5]<25:\n",
    "        x[0][5] = x[0][5] + 1\n",
    "    result.append(clf2.predict(x))\n"
   ]
  },
  {
   "cell_type": "code",
   "execution_count": 92,
   "metadata": {},
   "outputs": [],
   "source": [
    "result = pd.DataFrame(result)"
   ]
  },
  {
   "cell_type": "code",
   "execution_count": 93,
   "metadata": {},
   "outputs": [
    {
     "data": {
      "text/plain": [
       "array([[300.6895,   0.3794, 362.3962,  34.52  ,  12.8463,  25.5521]])"
      ]
     },
     "execution_count": 93,
     "metadata": {},
     "output_type": "execute_result"
    }
   ],
   "source": [
    "x"
   ]
  },
  {
   "cell_type": "code",
   "execution_count": 70,
   "metadata": {},
   "outputs": [],
   "source": [
    "x1 = pd.DataFrame([89.40 for i in range(151)])"
   ]
  },
  {
   "cell_type": "code",
   "execution_count": 75,
   "metadata": {},
   "outputs": [],
   "source": [
    "result_end = x1 - result"
   ]
  },
  {
   "cell_type": "code",
   "execution_count": 76,
   "metadata": {},
   "outputs": [],
   "source": [
    "result_end.to_csv('133产品辛烷值.csv')"
   ]
  },
  {
   "cell_type": "code",
   "execution_count": 77,
   "metadata": {},
   "outputs": [
    {
     "data": {
      "image/png": "[encoded data removed]",
      "text/plain": [
       "<Figure size 432x288 with 1 Axes>"
      ]
     },
     "metadata": {
      "needs_background": "light"
     },
     "output_type": "display_data"
    }
   ],
   "source": [
    "import matplotlib.pyplot as plt\n",
    "plt.rcParams['font.sans-serif'] = ['SimHei']\n",
    "plt.rcParams['axes.unicode_minus'] = False\n",
    "result_end.plot()\n",
    "plt.show()"
   ]
  },
  {
   "cell_type": "code",
   "execution_count": 87,
   "metadata": {},
   "outputs": [],
   "source": [
    "x = np.array([0.6895, 270.3794, 369.3962, 61.52, 8.8463, -0.4479]).reshape(1, -1)\n",
    "result_s = []\n",
    "y_s_pred = clf1.predict(x)\n",
    "result_s.append(y_s_pred)\n",
    "for i in range(131):\n",
    "    if x[0][0]<300:\n",
    "        x[0][0] = x[0][0]+2\n",
    "    if x[0][1]>1.5:\n",
    "        x[0][1] = x[0][1]-10\n",
    "    if x[0][2]>362.9693:\n",
    "        x[0][2] = x[0][2] - 1\n",
    "    if x[0][3]>35:\n",
    "        x[0][3] = x[0][3] - 1\n",
    "    if x[0][4]<12:\n",
    "        x[0][4] = x[0][4] + 1\n",
    "    if x[0][5]<25:\n",
    "        x[0][5] = x[0][5] + 1\n",
    "    result_s.append(clf1.predict(x))"
   ]
  },
  {
   "cell_type": "code",
   "execution_count": 95,
   "metadata": {},
   "outputs": [],
   "source": [
    "result_s = pd.DataFrame(result_s)\n",
    "result_s.to_csv('133号硫含量.csv')"
   ]
  },
  {
   "cell_type": "code",
   "execution_count": 89,
   "metadata": {},
   "outputs": [
    {
     "data": {
      "text/plain": [
       "array([[262.6895,   0.3794, 362.3962,  34.52  ,  12.8463,  25.5521]])"
      ]
     },
     "execution_count": 89,
     "metadata": {},
     "output_type": "execute_result"
    }
   ],
   "source": [
    "x"
   ]
  },
  {
   "cell_type": "code",
   "execution_count": 111,
   "metadata": {},
   "outputs": [],
   "source": [
    "result_single_320 = []"
   ]
  },
  {
   "cell_type": "code",
   "execution_count": 112,
   "metadata": {},
   "outputs": [],
   "source": [
    "x_single_xinwan = np.array([0.6895, 270.3794, 369.3962, 61.52, 8.8463, -0.4479]).reshape(1, -1)\n",
    "result_single_320.append(clf2.predict(x_single_xinwan))\n",
    "for i in range (150):\n",
    "    x_single_xinwan[0][0] = x_single_xinwan[0][0] + 2\n",
    "    result_single_320.append(clf2.predict(x_single_xinwan))"
   ]
  },
  {
   "cell_type": "code",
   "execution_count": 113,
   "metadata": {},
   "outputs": [],
   "source": [
    "result_single_320 = pd.DataFrame(restut_single_xinwan)\n",
    "result_single_320.to_csv('预测辛烷只变x320.csv')"
   ]
  },
  {
   "cell_type": "code",
   "execution_count": null,
   "metadata": {},
   "outputs": [],
   "source": []
  },
  {
   "cell_type": "code",
   "execution_count": null,
   "metadata": {},
   "outputs": [],
   "source": []
  },
  {
   "cell_type": "code",
   "execution_count": 114,
   "metadata": {},
   "outputs": [
    {
     "ename": "SyntaxError",
     "evalue": "unexpected EOF while parsing (<ipython-input-114-0e0ab1f19f6d>, line 4)",
     "output_type": "error",
     "traceback": [
      "\u001B[1;36m  File \u001B[1;32m\"<ipython-input-114-0e0ab1f19f6d>\"\u001B[1;36m, line \u001B[1;32m4\u001B[0m\n\u001B[1;33m    for i in range(27):\u001B[0m\n\u001B[1;37m                       ^\u001B[0m\n\u001B[1;31mSyntaxError\u001B[0m\u001B[1;31m:\u001B[0m unexpected EOF while parsing\n"
     ]
    }
   ],
   "source": [
    "result_single_182 = []\n",
    "x_single_xinwan = np.array([0.6895, 270.3794, 369.3962, 61.52, 8.8463, -0.4479]).reshape(1, -1)\n",
    "result_single_182.append(clf2.predict(x_single_xinwan))\n",
    "for i in range(27):\n",
    "    x_single_xinwan[0][1] = x_single_xinwan[0][1] - 10\n",
    "    result_single_182.append(clf2.predict(x_single_xinwan))\n",
    "result_single_182 = pd.DataFrame(restut_single_xinwan)\n",
    "result_single_182.to_csv('预测辛烷只变x182.csv')"
   ]
  },
  {
   "cell_type": "code",
   "execution_count": null,
   "metadata": {},
   "outputs": [],
   "source": []
  }
 ],
 "metadata": {
  "kernelspec": {
   "display_name": "Python 3",
   "language": "python",
   "name": "python3"
  },
  "language_info": {
   "codemirror_mode": {
    "name": "ipython",
    "version": 3
   },
   "file_extension": ".py",
   "mimetype": "text/x-python",
   "name": "python",
   "nbconvert_exporter": "python",
   "pygments_lexer": "ipython3",
   "version": "3.7.6"
  }
 },
 "nbformat": 4,
 "nbformat_minor": 4
}