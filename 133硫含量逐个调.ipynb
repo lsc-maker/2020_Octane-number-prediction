{
 "cells": [
  {
   "cell_type": "code",
   "execution_count": 13,
   "metadata": {},
   "outputs": [],
   "source": [
    "import warnings\n",
    "warnings.filterwarnings('ignore')\n",
    "\n",
    "import pandas as pd\n",
    "import numpy as np\n",
    "import matplotlib.pyplot as plt\n",
    "import seaborn as sns\n",
    "import missingno as msno\n",
    "from sklearn.linear_model import Ridge\n",
    "pd.set_option('display.max_columns', None)\n",
    "pd.set_option('display.max_rows', None)\n",
    "pd.set_option('max_colwidth',100)\n",
    "\n",
    "data = pd.read_csv('delete3_2.csv', sep=',')\n",
    "\n",
    "Y1 = data['y1']\n",
    "Y2 = data['y2']\n",
    "X = data[['x320', 'x182', 'x61', 'x54', 'x239', 'x244']]\n",
    "\n",
    "clf1 = Ridge()\n",
    "clf1.fit(X, Y1)\n",
    "clf2 = Ridge()\n",
    "clf2.fit(X, Y2)\n",
    "\n",
    "x = np.array([0.6895, 270.3794, 369.3962, 61.52, 8.8463, -0.4479]).reshape(1, -1)\n",
    "\n",
    "result = []\n",
    "y_pred = clf1.predict(x)\n",
    "result.append(y_pred)\n",
    "for i in range(150):\n",
    "    if x[0][0]<300:\n",
    "        x[0][0] = x[0][0]+2\n",
    "    result.append(clf1.predict(x))\n",
    "\n",
    "result = pd.DataFrame(result)\n",
    "result.to_csv('硫含量调完x320.csv')"
   ]
  },
  {
   "cell_type": "code",
   "execution_count": 14,
   "metadata": {},
   "outputs": [
    {
     "data": {
      "text/plain": [
       "array([[300.6895, 270.3794, 369.3962,  61.52  ,   8.8463,  -0.4479]])"
      ]
     },
     "execution_count": 14,
     "metadata": {},
     "output_type": "execute_result"
    }
   ],
   "source": [
    "x"
   ]
  },
  {
   "cell_type": "code",
   "execution_count": 15,
   "metadata": {},
   "outputs": [],
   "source": [
    "result_2 = []\n",
    "y_pred = clf1.predict(x)\n",
    "result_2.append(y_pred)\n",
    "for i in range(27):\n",
    "    if x[0][1]>1.5:\n",
    "        x[0][1] = x[0][1]-10\n",
    "    result_2.append(clf1.predict(x))\n",
    "\n",
    "result_2 = pd.DataFrame(result_2)\n",
    "result_2.to_csv('硫含量调完x320x182.csv')"
   ]
  },
  {
   "cell_type": "code",
   "execution_count": 16,
   "metadata": {},
   "outputs": [
    {
     "data": {
      "text/plain": [
       "array([[300.6895,   0.3794, 369.3962,  61.52  ,   8.8463,  -0.4479]])"
      ]
     },
     "execution_count": 16,
     "metadata": {},
     "output_type": "execute_result"
    }
   ],
   "source": [
    "x"
   ]
  },
  {
   "cell_type": "code",
   "execution_count": 17,
   "metadata": {},
   "outputs": [],
   "source": [
    "result_3 = []\n",
    "y_pred = clf1.predict(x)\n",
    "result_3.append(y_pred)\n",
    "for i in range(7):\n",
    "    if x[0][2]>362:\n",
    "        x[0][2] = x[0][2]-1\n",
    "    result_3.append(clf1.predict(x))\n",
    "\n",
    "result_3 = pd.DataFrame(result_3)\n",
    "result_3.to_csv('硫含量调完x320x182x61.csv')"
   ]
  },
  {
   "cell_type": "code",
   "execution_count": 18,
   "metadata": {},
   "outputs": [
    {
     "data": {
      "text/plain": [
       "array([[300.6895,   0.3794, 362.3962,  61.52  ,   8.8463,  -0.4479]])"
      ]
     },
     "execution_count": 18,
     "metadata": {},
     "output_type": "execute_result"
    }
   ],
   "source": [
    "x"
   ]
  },
  {
   "cell_type": "code",
   "execution_count": 19,
   "metadata": {},
   "outputs": [],
   "source": [
    "result_4 = []\n",
    "y_pred = clf1.predict(x)\n",
    "result_4.append(y_pred)\n",
    "for i in range(26):\n",
    "    if x[0][3]>35:\n",
    "        x[0][3] = x[0][3]-1\n",
    "    result_4.append(clf1.predict(x))\n",
    "\n",
    "result_4 = pd.DataFrame(result_4)\n",
    "result_4.to_csv('硫含量调完x320x182x61x54.csv')"
   ]
  },
  {
   "cell_type": "code",
   "execution_count": 20,
   "metadata": {},
   "outputs": [
    {
     "data": {
      "text/plain": [
       "array([[300.6895,   0.3794, 362.3962,  35.52  ,   8.8463,  -0.4479]])"
      ]
     },
     "execution_count": 20,
     "metadata": {},
     "output_type": "execute_result"
    }
   ],
   "source": [
    "x"
   ]
  },
  {
   "cell_type": "code",
   "execution_count": 21,
   "metadata": {},
   "outputs": [],
   "source": [
    "result_5 = []\n",
    "y_pred = clf1.predict(x)\n",
    "result_5.append(y_pred)\n",
    "for i in range(4):\n",
    "    if x[0][4]<12:\n",
    "        x[0][4] = x[0][4]+1\n",
    "    result_5.append(clf1.predict(x))\n",
    "\n",
    "result_5 = pd.DataFrame(result_5)\n",
    "result_5.to_csv('硫含量调完x320x182x61x54x239.csv')"
   ]
  },
  {
   "cell_type": "code",
   "execution_count": 22,
   "metadata": {},
   "outputs": [
    {
     "data": {
      "text/plain": [
       "array([[300.6895,   0.3794, 362.3962,  35.52  ,  12.8463,  -0.4479]])"
      ]
     },
     "execution_count": 22,
     "metadata": {},
     "output_type": "execute_result"
    }
   ],
   "source": [
    "x"
   ]
  },
  {
   "cell_type": "code",
   "execution_count": 23,
   "metadata": {},
   "outputs": [],
   "source": [
    "result_6 = []\n",
    "y_pred = clf1.predict(x)\n",
    "result_6.append(y_pred)\n",
    "for i in range(26):\n",
    "    if x[0][5]<25:\n",
    "        x[0][5] = x[0][5]+1\n",
    "    result_6.append(clf1.predict(x))\n",
    "\n",
    "result_6 = pd.DataFrame(result_6)\n",
    "result_6.to_csv('硫含量调完x320x182x61x54x239x244.csv')"
   ]
  },
  {
   "cell_type": "code",
   "execution_count": 24,
   "metadata": {},
   "outputs": [
    {
     "data": {
      "text/plain": [
       "array([[300.6895,   0.3794, 362.3962,  35.52  ,  12.8463,  25.5521]])"
      ]
     },
     "execution_count": 24,
     "metadata": {},
     "output_type": "execute_result"
    }
   ],
   "source": [
    "x"
   ]
  },
  {
   "cell_type": "code",
   "execution_count": null,
   "metadata": {},
   "outputs": [],
   "source": []
  }
 ],
 "metadata": {
  "kernelspec": {
   "display_name": "Python 3",
   "language": "python",
   "name": "python3"
  },
  "language_info": {
   "codemirror_mode": {
    "name": "ipython",
    "version": 3
   },
   "file_extension": ".py",
   "mimetype": "text/x-python",
   "name": "python",
   "nbconvert_exporter": "python",
   "pygments_lexer": "ipython3",
   "version": "3.7.6"
  }
 },
 "nbformat": 4,
 "nbformat_minor": 4
}
