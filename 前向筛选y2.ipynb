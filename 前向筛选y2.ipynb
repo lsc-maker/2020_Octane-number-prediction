{
 "cells": [
  {
   "cell_type": "code",
   "execution_count": 17,
   "metadata": {},
   "outputs": [
    {
     "name": "stdout",
     "output_type": "stream",
     "text": [
      "Memory usage of dataframe is 30368.00 MB\n",
      "Memory usage after optimization is: 7688.00 MB\n",
      "Decreased by 74.7%\n"
     ]
    }
   ],
   "source": [
    "import warnings\n",
    "warnings.filterwarnings('ignore')\n",
    "\n",
    "import pandas as pd\n",
    "import numpy as np\n",
    "import matplotlib.pyplot as plt\n",
    "import seaborn as sns\n",
    "import missingno as msno\n",
    "#显示所有列\n",
    "pd.set_option('display.max_columns', None)\n",
    "#显示所有行\n",
    "pd.set_option('display.max_rows', None)\n",
    "#设置value的显示长度为100，默认为50\n",
    "pd.set_option('max_colwidth',100)\n",
    "\n",
    "def reduce_mem_usage(df):\n",
    "\n",
    "    start_mem = df.memory_usage().sum() \n",
    "    print('Memory usage of dataframe is {:.2f} MB'.format(start_mem))\n",
    "    \n",
    "    for col in df.columns:\n",
    "        col_type = df[col].dtype\n",
    "        \n",
    "        if col_type != object:\n",
    "            c_min = df[col].min()\n",
    "            c_max = df[col].max()\n",
    "            if str(col_type)[:3] == 'int':\n",
    "                if c_min > np.iinfo(np.int8).min and c_max < np.iinfo(np.int8).max:\n",
    "                    df[col] = df[col].astype(np.int8)\n",
    "                elif c_min > np.iinfo(np.int16).min and c_max < np.iinfo(np.int16).max:\n",
    "                    df[col] = df[col].astype(np.int16)\n",
    "                elif c_min > np.iinfo(np.int32).min and c_max < np.iinfo(np.int32).max:\n",
    "                    df[col] = df[col].astype(np.int32)\n",
    "                elif c_min > np.iinfo(np.int64).min and c_max < np.iinfo(np.int64).max:\n",
    "                    df[col] = df[col].astype(np.int64)  \n",
    "            else:\n",
    "                if c_min > np.finfo(np.float16).min and c_max < np.finfo(np.float16).max:\n",
    "                    df[col] = df[col].astype(np.float16)\n",
    "                elif c_min > np.finfo(np.float32).min and c_max < np.finfo(np.float32).max:\n",
    "                    df[col] = df[col].astype(np.float32)\n",
    "                else:\n",
    "                    df[col] = df[col].astype(np.float64)\n",
    "        else:\n",
    "            df[col] = df[col].astype('category')\n",
    "\n",
    "    end_mem = df.memory_usage().sum() \n",
    "    print('Memory usage after optimization is: {:.2f} MB'.format(end_mem))\n",
    "    print('Decreased by {:.1f}%'.format(100 * (start_mem - end_mem) / start_mem))\n",
    "    return df\n",
    "\n",
    "data = pd.read_csv('delete3_2.csv', sep=',')\n",
    "data = reduce_mem_usage(data)"
   ]
  },
  {
   "cell_type": "code",
   "execution_count": 18,
   "metadata": {},
   "outputs": [],
   "source": [
    "Y2 = data['y2']\n",
    "name_24 = ['x77', 'x30', 'x33', 'x61', 'x26', 'x2', 'x274', 'x6',\n",
    "       'x28', 'x54', 'x162', 'x320', 'x315', 'x245', 'x273', 'x191', 'x169',\n",
    "       'x130', 'x182', 'x317', 'x123', 'x4', 'x174', 'x16']\n",
    "X = data[name_24]"
   ]
  },
  {
   "cell_type": "code",
   "execution_count": 21,
   "metadata": {},
   "outputs": [
    {
     "data": {
      "text/plain": [
       "SequentialFeatureSelector(clone_estimator=True, cv=5,\n",
       "                          estimator=Ridge(alpha=1.0, copy_X=True,\n",
       "                                          fit_intercept=True, max_iter=None,\n",
       "                                          normalize=False, random_state=None,\n",
       "                                          solver='auto', tol=0.001),\n",
       "                          fixed_features=None, floating=False, forward=True,\n",
       "                          k_features=(1, 24), n_jobs=-1,\n",
       "                          pre_dispatch='2*n_jobs', scoring='r2', verbose=0)"
      ]
     },
     "execution_count": 21,
     "metadata": {},
     "output_type": "execute_result"
    }
   ],
   "source": [
    "from mlxtend.feature_selection import SequentialFeatureSelector as SFS\n",
    "from mlxtend.plotting import plot_sequential_feature_selection as plot_sfs\n",
    "from sklearn.linear_model import Ridge\n",
    "sfs1 = SFS(Ridge(), \n",
    "           k_features=(1, 24),\n",
    "           forward=True, \n",
    "           floating=False, \n",
    "           scoring='r2',\n",
    "           cv=5,\n",
    "           n_jobs=-1)\n",
    "\n",
    "sfs1.fit(X, Y2, custom_feature_names=name_24)\n",
    "\n",
    "# print('best combination (r2: %.3f): %s\\n' % (sfs1.k_score_, sfs1.k_feature_idx_))\n",
    "# print('all subsets:\\n', sfs1.subsets_)\n",
    "# plot_sfs(sfs1.get_metric_dict(), kind='std_dev')\n",
    "# plt.grid()\n",
    "# plt.show()"
   ]
  },
  {
   "cell_type": "code",
   "execution_count": 22,
   "metadata": {},
   "outputs": [
    {
     "data": {
      "text/plain": [
       "(array([-0.00078865, -0.00025998,  0.00017675]), 1.3004495697222556)"
      ]
     },
     "execution_count": 22,
     "metadata": {},
     "output_type": "execute_result"
    }
   ],
   "source": [
    "name_3 = ['x320', 'x182', 'x174']\n",
    "X_3 = X[name_3]\n",
    "ridge2 = Ridge()\n",
    "ridge2.fit(X_3, Y2)\n",
    "ridge2.coef_, ridge2.intercept_"
   ]
  },
  {
   "cell_type": "code",
   "execution_count": 23,
   "metadata": {},
   "outputs": [
    {
     "data": {
      "text/plain": [
       "(array([-0.00160313,  0.00497628,  0.00148422]), 3.421561390543235)"
      ]
     },
     "execution_count": 23,
     "metadata": {},
     "output_type": "execute_result"
    }
   ],
   "source": [
    "Y1 = data['y1']\n",
    "ridge1 = Ridge()\n",
    "ridge1.fit(X_3, Y1)\n",
    "ridge1.coef_, ridge1.intercept_"
   ]
  },
  {
   "cell_type": "code",
   "execution_count": null,
   "metadata": {},
   "outputs": [],
   "source": []
  }
 ],
 "metadata": {
  "kernelspec": {
   "display_name": "Python 3",
   "language": "python",
   "name": "python3"
  },
  "language_info": {
   "codemirror_mode": {
    "name": "ipython",
    "version": 3
   },
   "file_extension": ".py",
   "mimetype": "text/x-python",
   "name": "python",
   "nbconvert_exporter": "python",
   "pygments_lexer": "ipython3",
   "version": "3.7.6"
  }
 },
 "nbformat": 4,
 "nbformat_minor": 4
}