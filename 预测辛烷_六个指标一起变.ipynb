{
 "cells": [
  {
   "cell_type": "code",
   "execution_count": 1,
   "metadata": {},
   "outputs": [],
   "source": [
    "import warnings\n",
    "warnings.filterwarnings('ignore')\n",
    "\n",
    "import pandas as pd\n",
    "import numpy as np\n",
    "import matplotlib.pyplot as plt\n",
    "import seaborn as sns\n",
    "import missingno as msno\n",
    "from sklearn.linear_model import Ridge\n",
    "#显示所有列\n",
    "pd.set_option('display.max_columns', None)\n",
    "#显示所有行\n",
    "pd.set_option('display.max_rows', None)\n",
    "#设置value的显示长度为100，默认为50\n",
    "pd.set_option('max_colwidth',100)\n",
    "\n",
    "data = pd.read_csv('delete3_2.csv', sep=',')\n",
    "\n",
    "Y1 = data['y1']\n",
    "Y2 = data['y2']\n",
    "X = data[['x320', 'x182', 'x61', 'x54', 'x239', 'x244']]\n",
    "\n",
    "clf1 = Ridge()\n",
    "clf1.fit(X, Y1)\n",
    "clf2 = Ridge()\n",
    "clf2.fit(X, Y2)\n",
    "\n",
    "x = np.array([0.6895, 270.3794, 369.3962, 61.52, 8.8463, -0.4479]).reshape(1, -1)"
   ]
  },
  {
   "cell_type": "code",
   "execution_count": 2,
   "metadata": {},
   "outputs": [],
   "source": [
    "result_xinwan_all_adj = []\n",
    "y_pred = clf2.predict(x)\n",
    "result_xinwan_all_adj.append(y_pred)\n",
    "for i in range(150):\n",
    "    if x[0][0]<300:\n",
    "        x[0][0] = x[0][0]+2\n",
    "    if x[0][1]>1.5:\n",
    "        x[0][1] = x[0][1]-10\n",
    "    if x[0][2]>362.9693:\n",
    "        x[0][2] = x[0][2] - 1\n",
    "    if x[0][3]>35:\n",
    "        x[0][3] = x[0][3] - 1\n",
    "    if x[0][4]<12:\n",
    "        x[0][4] = x[0][4] + 1\n",
    "    if x[0][5]<25:\n",
    "        x[0][5] = x[0][5] + 1\n",
    "    result_xinwan_all_adj.append(clf2.predict(x))\n",
    "    \n",
    "result_xinwan_all_adj = pd.DataFrame(result_xinwan_all_adj)"
   ]
  },
  {
   "cell_type": "code",
   "execution_count": 5,
   "metadata": {},
   "outputs": [],
   "source": [
    "x1 = pd.DataFrame([89.40 for i in range(151)])\n",
    "result_end = x1 - result_xinwan_all_adj\n",
    "result_end.to_csv('133产品辛烷值六个指标一起变.csv')"
   ]
  },
  {
   "cell_type": "code",
   "execution_count": null,
   "metadata": {},
   "outputs": [],
   "source": []
  }
 ],
 "metadata": {
  "kernelspec": {
   "display_name": "Python 3",
   "language": "python",
   "name": "python3"
  },
  "language_info": {
   "codemirror_mode": {
    "name": "ipython",
    "version": 3
   },
   "file_extension": ".py",
   "mimetype": "text/x-python",
   "name": "python",
   "nbconvert_exporter": "python",
   "pygments_lexer": "ipython3",
   "version": "3.7.6"
  }
 },
 "nbformat": 4,
 "nbformat_minor": 4
}
