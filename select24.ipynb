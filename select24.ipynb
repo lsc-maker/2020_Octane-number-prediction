{
 "cells": [
  {
   "cell_type": "code",
   "execution_count": 5,
   "metadata": {},
   "outputs": [],
   "source": [
    "import warnings\n",
    "warnings.filterwarnings('ignore')\n",
    "\n",
    "import pandas as pd\n",
    "import numpy as np\n",
    "import matplotlib.pyplot as plt\n",
    "import seaborn as sns\n",
    "import missingno as msno\n",
    "#显示所有列\n",
    "pd.set_option('display.max_columns', None)\n",
    "#显示所有行\n",
    "pd.set_option('display.max_rows', None)\n",
    "#设置value的显示长度为100，默认为50\n",
    "pd.set_option('max_colwidth',100)"
   ]
  },
  {
   "cell_type": "code",
   "execution_count": 6,
   "metadata": {},
   "outputs": [],
   "source": [
    "def reduce_mem_usage(df):\n",
    "    start_mem = df.memory_usage().sum() \n",
    "    print('Memory usage of dataframe is {:.2f} MB'.format(start_mem))\n",
    "    \n",
    "    for col in df.columns:\n",
    "        col_type = df[col].dtype\n",
    "        \n",
    "        if col_type != object:\n",
    "            c_min = df[col].min()\n",
    "            c_max = df[col].max()\n",
    "            if str(col_type)[:3] == 'int':\n",
    "                if c_min > np.iinfo(np.int8).min and c_max < np.iinfo(np.int8).max:\n",
    "                    df[col] = df[col].astype(np.int8)\n",
    "                elif c_min > np.iinfo(np.int16).min and c_max < np.iinfo(np.int16).max:\n",
    "                    df[col] = df[col].astype(np.int16)\n",
    "                elif c_min > np.iinfo(np.int32).min and c_max < np.iinfo(np.int32).max:\n",
    "                    df[col] = df[col].astype(np.int32)\n",
    "                elif c_min > np.iinfo(np.int64).min and c_max < np.iinfo(np.int64).max:\n",
    "                    df[col] = df[col].astype(np.int64)  \n",
    "            else:\n",
    "                if c_min > np.finfo(np.float16).min and c_max < np.finfo(np.float16).max:\n",
    "                    df[col] = df[col].astype(np.float16)\n",
    "                elif c_min > np.finfo(np.float32).min and c_max < np.finfo(np.float32).max:\n",
    "                    df[col] = df[col].astype(np.float32)\n",
    "                else:\n",
    "                    df[col] = df[col].astype(np.float64)\n",
    "        else:\n",
    "            df[col] = df[col].astype('category')\n",
    "\n",
    "    end_mem = df.memory_usage().sum() \n",
    "    print('Memory usage after optimization is: {:.2f} MB'.format(end_mem))\n",
    "    print('Decreased by {:.1f}%'.format(100 * (start_mem - end_mem) / start_mem))\n",
    "    return df"
   ]
  },
  {
   "cell_type": "code",
   "execution_count": 7,
   "metadata": {},
   "outputs": [
    {
     "name": "stdout",
     "output_type": "stream",
     "text": [
      "Memory usage of dataframe is 553928.00 MB\n",
      "Memory usage after optimization is: 147028.00 MB\n",
      "Decreased by 73.5%\n"
     ]
    }
   ],
   "source": [
    "data = pd.read_csv('data1.csv', sep=',')\n",
    "data = reduce_mem_usage(data)"
   ]
  },
  {
   "cell_type": "code",
   "execution_count": 8,
   "metadata": {},
   "outputs": [],
   "source": [
    "top50_name = ['x77','x68','x239','x30','x345','x258','x37','x226','x128','x244','x33','x61','x306','x26','x2','x46','x274','x12','x74','x79','x6','x28','x54','x184','x60','x312','x162','x320','x315','x245','x273','x219','x314','x307','x191','x169','x52','x164','x240','x130','x195','x182','x317','x123','x51','x310','x194','x4','x174','x16']"
   ]
  },
  {
   "cell_type": "code",
   "execution_count": 9,
   "metadata": {},
   "outputs": [],
   "source": [
    "X = data[top50_name]\n",
    "Y = data['y']"
   ]
  },
  {
   "cell_type": "code",
   "execution_count": 24,
   "metadata": {},
   "outputs": [
    {
     "name": "stdout",
     "output_type": "stream",
     "text": [
      "best combination (r2: 0.070): (3, 8, 11, 12, 27, 31, 46, 47)\n",
      "\n",
      "all subsets:\n",
      " {1: {'feature_idx': (27,), 'cv_scores': array([-0.00096039, -0.00657861,  0.1179125 , -0.11331175, -0.01907068]), 'avg_score': -0.004401787679155311, 'feature_names': ('x320',)}, 2: {'feature_idx': (11, 27), 'cv_scores': array([ 0.02911822, -0.02355921,  0.15975785, -0.00726034,  0.03068811]), 'avg_score': 0.03774892517381725, 'feature_names': ('x61', 'x320')}, 3: {'feature_idx': (3, 11, 27), 'cv_scores': array([0.00357327, 0.0218758 , 0.15077085, 0.0870653 , 0.04163954]), 'avg_score': 0.060984952505680076, 'feature_names': ('x30', 'x61', 'x320')}, 4: {'feature_idx': (3, 8, 11, 27), 'cv_scores': array([0.01715579, 0.03589154, 0.15050638, 0.08602284, 0.02521513]), 'avg_score': 0.06295833655415654, 'feature_names': ('x30', 'x128', 'x61', 'x320')}, 5: {'feature_idx': (3, 8, 11, 12, 27), 'cv_scores': array([-0.01718467,  0.04739789,  0.1600026 ,  0.09534973,  0.04186308]), 'avg_score': 0.06548572565142223, 'feature_names': ('x30', 'x128', 'x61', 'x306', 'x320')}, 6: {'feature_idx': (3, 8, 11, 12, 27, 47), 'cv_scores': array([-0.0015784 ,  0.0478407 ,  0.16225036,  0.10241276,  0.02497506]), 'avg_score': 0.06718009402531969, 'feature_names': ('x30', 'x128', 'x61', 'x306', 'x320', 'x4')}, 7: {'feature_idx': (3, 8, 11, 12, 27, 31, 47), 'cv_scores': array([-0.00355437,  0.04884616,  0.16026035,  0.10518611,  0.03656913]), 'avg_score': 0.06946147617656792, 'feature_names': ('x30', 'x128', 'x61', 'x306', 'x320', 'x219', 'x4')}, 8: {'feature_idx': (3, 8, 11, 12, 27, 31, 46, 47), 'cv_scores': array([-0.00307409,  0.0489877 ,  0.16036426,  0.1019774 ,  0.04224018]), 'avg_score': 0.07009908967725442, 'feature_names': ('x30', 'x128', 'x61', 'x306', 'x320', 'x219', 'x194', 'x4')}, 9: {'feature_idx': (3, 8, 11, 12, 27, 31, 39, 46, 47), 'cv_scores': array([-0.00345475,  0.04829403,  0.16001222,  0.10134658,  0.04272727]), 'avg_score': 0.06978506899794243, 'feature_names': ('x30', 'x128', 'x61', 'x306', 'x320', 'x219', 'x130', 'x194', 'x4')}, 10: {'feature_idx': (3, 8, 11, 12, 24, 27, 31, 39, 46, 47), 'cv_scores': array([-0.00322086,  0.0480289 ,  0.16020994,  0.10011757,  0.04146725]), 'avg_score': 0.06932055950520158, 'feature_names': ('x30', 'x128', 'x61', 'x306', 'x60', 'x320', 'x219', 'x130', 'x194', 'x4')}, 11: {'feature_idx': (3, 8, 11, 12, 17, 24, 27, 31, 39, 46, 47), 'cv_scores': array([-0.00815063,  0.04802384,  0.16017281,  0.09904669,  0.04150384]), 'avg_score': 0.06811930778458748, 'feature_names': ('x30', 'x128', 'x61', 'x306', 'x12', 'x60', 'x320', 'x219', 'x130', 'x194', 'x4')}, 12: {'feature_idx': (3, 8, 11, 12, 15, 17, 24, 27, 31, 39, 46, 47), 'cv_scores': array([-0.00994817,  0.04848247,  0.15984892,  0.09445331,  0.04163258]), 'avg_score': 0.06689382211344094, 'feature_names': ('x30', 'x128', 'x61', 'x306', 'x46', 'x12', 'x60', 'x320', 'x219', 'x130', 'x194', 'x4')}, 13: {'feature_idx': (3, 8, 11, 12, 15, 17, 24, 27, 31, 32, 39, 46, 47), 'cv_scores': array([-0.00873422,  0.04667415,  0.15874488,  0.09068447,  0.04076671]), 'avg_score': 0.06562719893212454, 'feature_names': ('x30', 'x128', 'x61', 'x306', 'x46', 'x12', 'x60', 'x320', 'x219', 'x314', 'x130', 'x194', 'x4')}, 14: {'feature_idx': (3, 8, 11, 12, 15, 17, 24, 27, 31, 32, 34, 39, 46, 47), 'cv_scores': array([0.00488654, 0.026256  , 0.16500531, 0.092965  , 0.03729973]), 'avg_score': 0.06528251849075646, 'feature_names': ('x30', 'x128', 'x61', 'x306', 'x46', 'x12', 'x60', 'x320', 'x219', 'x314', 'x191', 'x130', 'x194', 'x4')}, 15: {'feature_idx': (3, 8, 11, 12, 15, 17, 24, 27, 28, 31, 32, 34, 39, 46, 47), 'cv_scores': array([0.00474581, 0.0217228 , 0.16596762, 0.08872836, 0.03456307]), 'avg_score': 0.06314553282046065, 'feature_names': ('x30', 'x128', 'x61', 'x306', 'x46', 'x12', 'x60', 'x320', 'x315', 'x219', 'x314', 'x191', 'x130', 'x194', 'x4')}, 16: {'feature_idx': (1, 3, 8, 11, 12, 15, 17, 24, 27, 28, 31, 32, 34, 39, 46, 47), 'cv_scores': array([0.00453563, 0.01876795, 0.16457985, 0.08424963, 0.03421468]), 'avg_score': 0.061269546616259406, 'feature_names': ('x68', 'x30', 'x128', 'x61', 'x306', 'x46', 'x12', 'x60', 'x320', 'x315', 'x219', 'x314', 'x191', 'x130', 'x194', 'x4')}, 17: {'feature_idx': (1, 3, 8, 11, 12, 15, 17, 24, 25, 27, 28, 31, 32, 34, 39, 46, 47), 'cv_scores': array([0.00425349, 0.01809561, 0.1577473 , 0.07788357, 0.03409873]), 'avg_score': 0.05841573949896215, 'feature_names': ('x68', 'x30', 'x128', 'x61', 'x306', 'x46', 'x12', 'x60', 'x312', 'x320', 'x315', 'x219', 'x314', 'x191', 'x130', 'x194', 'x4')}, 18: {'feature_idx': (1, 3, 8, 11, 12, 13, 15, 17, 24, 25, 27, 28, 31, 32, 34, 39, 46, 47), 'cv_scores': array([ 0.03934737,  0.04527743,  0.15181387,  0.05499418, -0.01247021]), 'avg_score': 0.055792528144066676, 'feature_names': ('x68', 'x30', 'x128', 'x61', 'x306', 'x26', 'x46', 'x12', 'x60', 'x312', 'x320', 'x315', 'x219', 'x314', 'x191', 'x130', 'x194', 'x4')}, 19: {'feature_idx': (1, 3, 8, 11, 12, 13, 15, 17, 24, 25, 27, 28, 31, 32, 33, 34, 39, 46, 47), 'cv_scores': array([0.04098806, 0.04488565, 0.15697197, 0.05886897, 0.01504615]), 'avg_score': 0.06335216152841372, 'feature_names': ('x68', 'x30', 'x128', 'x61', 'x306', 'x26', 'x46', 'x12', 'x60', 'x312', 'x320', 'x315', 'x219', 'x314', 'x307', 'x191', 'x130', 'x194', 'x4')}, 20: {'feature_idx': (1, 3, 8, 11, 12, 13, 15, 17, 24, 25, 27, 28, 31, 32, 33, 34, 39, 46, 47, 49), 'cv_scores': array([0.04125742, 0.04650543, 0.15689363, 0.04851501, 0.00123341]), 'avg_score': 0.05888098087568405, 'feature_names': ('x68', 'x30', 'x128', 'x61', 'x306', 'x26', 'x46', 'x12', 'x60', 'x312', 'x320', 'x315', 'x219', 'x314', 'x307', 'x191', 'x130', 'x194', 'x4', 'x16')}, 21: {'feature_idx': (1, 3, 8, 11, 12, 13, 15, 17, 24, 25, 27, 28, 31, 32, 33, 34, 39, 40, 46, 47, 49), 'cv_scores': array([0.01779684, 0.03318191, 0.15709424, 0.04830212, 0.00475095]), 'avg_score': 0.05222521309615737, 'feature_names': ('x68', 'x30', 'x128', 'x61', 'x306', 'x26', 'x46', 'x12', 'x60', 'x312', 'x320', 'x315', 'x219', 'x314', 'x307', 'x191', 'x130', 'x195', 'x194', 'x4', 'x16')}, 22: {'feature_idx': (1, 3, 7, 8, 11, 12, 13, 15, 17, 24, 25, 27, 28, 31, 32, 33, 34, 39, 40, 46, 47, 49), 'cv_scores': array([-0.00287418,  0.03239723,  0.13683694,  0.03770872,  0.00855452]), 'avg_score': 0.042524645858093166, 'feature_names': ('x68', 'x30', 'x226', 'x128', 'x61', 'x306', 'x26', 'x46', 'x12', 'x60', 'x312', 'x320', 'x315', 'x219', 'x314', 'x307', 'x191', 'x130', 'x195', 'x194', 'x4', 'x16')}, 23: {'feature_idx': (1, 3, 7, 8, 11, 12, 13, 15, 17, 24, 25, 27, 28, 31, 32, 33, 34, 39, 40, 45, 46, 47, 49), 'cv_scores': array([-0.00315568,  0.03354479,  0.13650212,  0.04002847, -0.02643875]), 'avg_score': 0.03609618898531364, 'feature_names': ('x68', 'x30', 'x226', 'x128', 'x61', 'x306', 'x26', 'x46', 'x12', 'x60', 'x312', 'x320', 'x315', 'x219', 'x314', 'x307', 'x191', 'x130', 'x195', 'x310', 'x194', 'x4', 'x16')}, 24: {'feature_idx': (1, 3, 7, 8, 11, 12, 13, 15, 17, 22, 24, 25, 27, 28, 31, 32, 33, 34, 39, 40, 45, 46, 47, 49), 'cv_scores': array([-0.00718939,  0.03284133,  0.13663405, -0.03949527, -0.05948831]), 'avg_score': 0.012660481812740265, 'feature_names': ('x68', 'x30', 'x226', 'x128', 'x61', 'x306', 'x26', 'x46', 'x12', 'x54', 'x60', 'x312', 'x320', 'x315', 'x219', 'x314', 'x307', 'x191', 'x130', 'x195', 'x310', 'x194', 'x4', 'x16')}, 25: {'feature_idx': (1, 3, 7, 8, 11, 12, 13, 15, 17, 22, 24, 25, 27, 28, 31, 32, 33, 34, 39, 40, 43, 45, 46, 47, 49), 'cv_scores': array([-0.0536156 ,  0.01707474,  0.15891115, -0.02674433,  0.00226529]), 'avg_score': 0.019578250418036534, 'feature_names': ('x68', 'x30', 'x226', 'x128', 'x61', 'x306', 'x26', 'x46', 'x12', 'x54', 'x60', 'x312', 'x320', 'x315', 'x219', 'x314', 'x307', 'x191', 'x130', 'x195', 'x123', 'x310', 'x194', 'x4', 'x16')}, 26: {'feature_idx': (0, 1, 3, 7, 8, 11, 12, 13, 15, 17, 22, 24, 25, 27, 28, 31, 32, 33, 34, 39, 40, 43, 45, 46, 47, 49), 'cv_scores': array([-0.07586997,  0.00530804,  0.15525825, -0.0494793 ,  0.01214924]), 'avg_score': 0.00947325311403351, 'feature_names': ('x77', 'x68', 'x30', 'x226', 'x128', 'x61', 'x306', 'x26', 'x46', 'x12', 'x54', 'x60', 'x312', 'x320', 'x315', 'x219', 'x314', 'x307', 'x191', 'x130', 'x195', 'x123', 'x310', 'x194', 'x4', 'x16')}, 27: {'feature_idx': (0, 1, 3, 7, 8, 10, 11, 12, 13, 15, 17, 22, 24, 25, 27, 28, 31, 32, 33, 34, 39, 40, 43, 45, 46, 47, 49), 'cv_scores': array([-0.10391965,  0.00063592,  0.13397414, -0.04678701,  0.01548882]), 'avg_score': -0.00012155796988562173, 'feature_names': ('x77', 'x68', 'x30', 'x226', 'x128', 'x33', 'x61', 'x306', 'x26', 'x46', 'x12', 'x54', 'x60', 'x312', 'x320', 'x315', 'x219', 'x314', 'x307', 'x191', 'x130', 'x195', 'x123', 'x310', 'x194', 'x4', 'x16')}, 28: {'feature_idx': (0, 1, 3, 7, 8, 10, 11, 12, 13, 15, 17, 21, 22, 24, 25, 27, 28, 31, 32, 33, 34, 39, 40, 43, 45, 46, 47, 49), 'cv_scores': array([-0.11716337, -0.01114009,  0.08294519, -0.05044102, -0.03609232]), 'avg_score': -0.026378320362982488, 'feature_names': ('x77', 'x68', 'x30', 'x226', 'x128', 'x33', 'x61', 'x306', 'x26', 'x46', 'x12', 'x28', 'x54', 'x60', 'x312', 'x320', 'x315', 'x219', 'x314', 'x307', 'x191', 'x130', 'x195', 'x123', 'x310', 'x194', 'x4', 'x16')}, 29: {'feature_idx': (0, 1, 3, 7, 8, 10, 11, 12, 13, 15, 17, 21, 22, 24, 25, 27, 28, 31, 32, 33, 34, 39, 40, 43, 45, 46, 47, 48, 49), 'cv_scores': array([-0.11472971, -0.01126421,  0.08837538, -0.051935  , -0.07540572]), 'avg_score': -0.03299185273769929, 'feature_names': ('x77', 'x68', 'x30', 'x226', 'x128', 'x33', 'x61', 'x306', 'x26', 'x46', 'x12', 'x28', 'x54', 'x60', 'x312', 'x320', 'x315', 'x219', 'x314', 'x307', 'x191', 'x130', 'x195', 'x123', 'x310', 'x194', 'x4', 'x174', 'x16')}, 30: {'feature_idx': (0, 1, 3, 7, 8, 10, 11, 12, 13, 15, 17, 21, 22, 24, 25, 27, 28, 31, 32, 33, 34, 35, 39, 40, 43, 45, 46, 47, 48, 49), 'cv_scores': array([-0.15057843, -0.14278178,  0.13208862, -0.05216117, -0.07634422]), 'avg_score': -0.05795539617759551, 'feature_names': ('x77', 'x68', 'x30', 'x226', 'x128', 'x33', 'x61', 'x306', 'x26', 'x46', 'x12', 'x28', 'x54', 'x60', 'x312', 'x320', 'x315', 'x219', 'x314', 'x307', 'x191', 'x169', 'x130', 'x195', 'x123', 'x310', 'x194', 'x4', 'x174', 'x16')}}\n"
     ]
    },
    {
     "data": {
      "image/png": "[encoded data removed]",
      "text/plain": [
       "<Figure size 432x288 with 1 Axes>"
      ]
     },
     "metadata": {
      "needs_background": "light"
     },
     "output_type": "display_data"
    }
   ],
   "source": [
    "from sklearn.ensemble import RandomForestRegressor\n",
    "from mlxtend.feature_selection import SequentialFeatureSelector as SFS\n",
    "from sklearn.model_selection import train_test_split\n",
    "from sklearn.pipeline import make_pipeline\n",
    "from mlxtend.plotting import plot_sequential_feature_selection as plot_sfs\n",
    "from sklearn.linear_model import LinearRegression, Ridge\n",
    "sfs1 = SFS(Ridge(), \n",
    "           k_features=(1, 30),\n",
    "           forward=True, \n",
    "           floating=False, \n",
    "           scoring='r2',\n",
    "           cv=5,\n",
    "           n_jobs=-1)\n",
    "\n",
    "sfs1.fit(X, Y, custom_feature_names=top50_name)\n",
    "\n",
    "print('best combination (r2: %.3f): %s\\n' % (sfs1.k_score_, sfs1.k_feature_idx_))\n",
    "print('all subsets:\\n', sfs1.subsets_)\n",
    "plot_sfs(sfs1.get_metric_dict(), kind='std_dev')\n",
    "plt.grid()\n",
    "plt.show()"
   ]
  },
  {
   "cell_type": "code",
   "execution_count": 25,
   "metadata": {},
   "outputs": [],
   "source": [
    "linertop_name = ['x30', 'x128', 'x61', 'x306', 'x320', 'x219', 'x194', 'x4']"
   ]
  },
  {
   "cell_type": "code",
   "execution_count": 26,
   "metadata": {},
   "outputs": [
    {
     "data": {
      "text/plain": [
       "Ridge(alpha=1.0, copy_X=True, fit_intercept=True, max_iter=None,\n",
       "      normalize=False, random_state=None, solver='auto', tol=0.001)"
      ]
     },
     "execution_count": 26,
     "metadata": {},
     "output_type": "execute_result"
    }
   ],
   "source": [
    "liner = Ridge()\n",
    "liner.fit(X[linertop_name], Y)"
   ]
  },
  {
   "cell_type": "code",
   "execution_count": 27,
   "metadata": {},
   "outputs": [
    {
     "data": {
      "text/plain": [
       "(array([ 0.01922786,  0.0372182 ,  0.01491745,  0.02600203, -0.00051085,\n",
       "        -0.00158049, -0.01866962, -0.00289908]),\n",
       " -4.762845786531116)"
      ]
     },
     "execution_count": 27,
     "metadata": {},
     "output_type": "execute_result"
    }
   ],
   "source": [
    "liner.coef_, liner.intercept_"
   ]
  },
  {
   "cell_type": "code",
   "execution_count": 28,
   "metadata": {},
   "outputs": [],
   "source": [
    "y_liner_pred = liner.predict(X[linertop_name])"
   ]
  },
  {
   "cell_type": "code",
   "execution_count": 29,
   "metadata": {},
   "outputs": [],
   "source": [
    "from sklearn.metrics import mean_absolute_error, mean_squared_error\n",
    "from sklearn.metrics import r2_score"
   ]
  },
  {
   "cell_type": "code",
   "execution_count": 30,
   "metadata": {},
   "outputs": [
    {
     "data": {
      "text/plain": [
       "(0.04152920121675289, -3.45038112695591)"
      ]
     },
     "execution_count": 30,
     "metadata": {},
     "output_type": "execute_result"
    }
   ],
   "source": [
    "mean_squared_error(y_liner_pred, Y), r2_score(y_liner_pred, Y)"
   ]
  },
  {
   "cell_type": "code",
   "execution_count": 27,
   "metadata": {},
   "outputs": [],
   "source": []
  },
  {
   "cell_type": "code",
   "execution_count": 33,
   "metadata": {},
   "outputs": [
    {
     "name": "stdout",
     "output_type": "stream",
     "text": [
      "best combination (r2: 0.105): (0, 3, 10, 11, 13, 14, 16, 20, 21, 22, 26, 27, 28, 29, 30, 34, 35, 39, 41, 42, 43, 47, 48, 49)\n",
      "\n",
      "all subsets:\n",
      " {1: {'feature_idx': (27,), 'cv_scores': array([-1.49661105e-04, -5.07660532e-03,  1.23955657e-01, -6.71211797e-01,\n",
      "        3.86072743e-02]), 'avg_score': -0.10277502638660156, 'feature_names': ('x320',)}, 2: {'feature_idx': (27, 42), 'cv_scores': array([-1.49755782e-04, -5.07660532e-03,  1.04882419e-01, -7.17228420e-01,\n",
      "       -7.46361698e-02]), 'avg_score': -0.13844170650964138, 'feature_names': ('x320', 'x317')}, 3: {'feature_idx': (27, 42, 48), 'cv_scores': array([-1.49793330e-04, -5.08230761e-03,  1.53207654e-02, -3.49913602e-01,\n",
      "       -7.50278435e-02]), 'avg_score': -0.0829705563105712, 'feature_names': ('x320', 'x317', 'x174')}, 4: {'feature_idx': (21, 27, 42, 48), 'cv_scores': array([-0.06918565, -0.18111469, -0.01145476, -0.35183893, -0.03285959]), 'avg_score': -0.12929072470051808, 'feature_names': ('x28', 'x320', 'x317', 'x174')}, 5: {'feature_idx': (14, 21, 27, 42, 48), 'cv_scores': array([-0.01105862, -0.09437205, -0.11976106, -0.37139566, -0.11908978]), 'avg_score': -0.14313543436780551, 'feature_names': ('x2', 'x28', 'x320', 'x317', 'x174')}, 6: {'feature_idx': (14, 21, 27, 28, 42, 48), 'cv_scores': array([ 0.1323251 , -0.06905171,  0.0254224 , -0.32446603, -0.08079276]), 'avg_score': -0.0633126000896089, 'feature_names': ('x2', 'x28', 'x320', 'x315', 'x317', 'x174')}, 7: {'feature_idx': (14, 21, 26, 27, 28, 42, 48), 'cv_scores': array([ 0.00406521, -0.01289984,  0.10102201, -0.24116638, -0.13595858]), 'avg_score': -0.056987517438228275, 'feature_names': ('x2', 'x28', 'x162', 'x320', 'x315', 'x317', 'x174')}, 8: {'feature_idx': (14, 21, 26, 27, 28, 35, 42, 48), 'cv_scores': array([ 0.08855375, -0.19010676,  0.12770133, -0.12278808, -0.00413567]), 'avg_score': -0.020155084456486238, 'feature_names': ('x2', 'x28', 'x162', 'x320', 'x315', 'x169', 'x317', 'x174')}, 9: {'feature_idx': (14, 21, 26, 27, 28, 35, 42, 43, 48), 'cv_scores': array([ 0.12913283, -0.05827703,  0.12479348, -0.19897418,  0.02778198]), 'avg_score': 0.004891416661656889, 'feature_names': ('x2', 'x28', 'x162', 'x320', 'x315', 'x169', 'x317', 'x123', 'x174')}, 10: {'feature_idx': (0, 14, 21, 26, 27, 28, 35, 42, 43, 48), 'cv_scores': array([ 0.09427407, -0.06536501,  0.15335676, -0.14413264,  0.10011852]), 'avg_score': 0.02765033888295223, 'feature_names': ('x77', 'x2', 'x28', 'x162', 'x320', 'x315', 'x169', 'x317', 'x123', 'x174')}, 11: {'feature_idx': (0, 13, 14, 21, 26, 27, 28, 35, 42, 43, 48), 'cv_scores': array([ 0.10402228, -0.10784046,  0.15267714, -0.13680763,  0.11576512]), 'avg_score': 0.025563289581258242, 'feature_names': ('x77', 'x26', 'x2', 'x28', 'x162', 'x320', 'x315', 'x169', 'x317', 'x123', 'x174')}, 12: {'feature_idx': (0, 13, 14, 21, 26, 27, 28, 35, 42, 43, 47, 48), 'cv_scores': array([ 0.10647359, -0.05491402,  0.13933086, -0.1198183 ,  0.10935921]), 'avg_score': 0.03608626468276517, 'feature_names': ('x77', 'x26', 'x2', 'x28', 'x162', 'x320', 'x315', 'x169', 'x317', 'x123', 'x4', 'x174')}, 13: {'feature_idx': (0, 13, 14, 21, 26, 27, 28, 34, 35, 42, 43, 47, 48), 'cv_scores': array([ 0.07494377, -0.03512366,  0.13615706, -0.07972924,  0.14592153]), 'avg_score': 0.04843389030018306, 'feature_names': ('x77', 'x26', 'x2', 'x28', 'x162', 'x320', 'x315', 'x191', 'x169', 'x317', 'x123', 'x4', 'x174')}, 14: {'feature_idx': (0, 10, 13, 14, 21, 26, 27, 28, 34, 35, 42, 43, 47, 48), 'cv_scores': array([ 0.07258357,  0.0408627 ,  0.13596676, -0.10990118,  0.08641715]), 'avg_score': 0.045185800438665755, 'feature_names': ('x77', 'x33', 'x26', 'x2', 'x28', 'x162', 'x320', 'x315', 'x191', 'x169', 'x317', 'x123', 'x4', 'x174')}, 15: {'feature_idx': (0, 10, 13, 14, 21, 26, 27, 28, 29, 34, 35, 42, 43, 47, 48), 'cv_scores': array([0.06068335, 0.07565797, 0.13083872, 0.0196693 , 0.06978884]), 'avg_score': 0.07132763592445648, 'feature_names': ('x77', 'x33', 'x26', 'x2', 'x28', 'x162', 'x320', 'x315', 'x245', 'x191', 'x169', 'x317', 'x123', 'x4', 'x174')}, 16: {'feature_idx': (0, 10, 11, 13, 14, 21, 26, 27, 28, 29, 34, 35, 42, 43, 47, 48), 'cv_scores': array([0.0494545 , 0.03987739, 0.14748286, 0.046207  , 0.09684959]), 'avg_score': 0.0759742670782586, 'feature_names': ('x77', 'x33', 'x61', 'x26', 'x2', 'x28', 'x162', 'x320', 'x315', 'x245', 'x191', 'x169', 'x317', 'x123', 'x4', 'x174')}, 17: {'feature_idx': (0, 10, 11, 13, 14, 21, 26, 27, 28, 29, 34, 35, 42, 43, 47, 48, 49), 'cv_scores': array([0.06189522, 0.0419444 , 0.14019382, 0.01852736, 0.12944135]), 'avg_score': 0.07840042823944468, 'feature_names': ('x77', 'x33', 'x61', 'x26', 'x2', 'x28', 'x162', 'x320', 'x315', 'x245', 'x191', 'x169', 'x317', 'x123', 'x4', 'x174', 'x16')}, 18: {'feature_idx': (0, 10, 11, 13, 14, 20, 21, 26, 27, 28, 29, 34, 35, 42, 43, 47, 48, 49), 'cv_scores': array([0.04695136, 0.01493101, 0.15238348, 0.10785196, 0.14763357]), 'avg_score': 0.09395027539400527, 'feature_names': ('x77', 'x33', 'x61', 'x26', 'x2', 'x6', 'x28', 'x162', 'x320', 'x315', 'x245', 'x191', 'x169', 'x317', 'x123', 'x4', 'x174', 'x16')}, 19: {'feature_idx': (0, 10, 11, 13, 14, 20, 21, 22, 26, 27, 28, 29, 34, 35, 42, 43, 47, 48, 49), 'cv_scores': array([0.06516659, 0.04425535, 0.14802201, 0.07258708, 0.10125585]), 'avg_score': 0.08625737577735412, 'feature_names': ('x77', 'x33', 'x61', 'x26', 'x2', 'x6', 'x28', 'x54', 'x162', 'x320', 'x315', 'x245', 'x191', 'x169', 'x317', 'x123', 'x4', 'x174', 'x16')}, 20: {'feature_idx': (0, 10, 11, 13, 14, 16, 20, 21, 22, 26, 27, 28, 29, 34, 35, 42, 43, 47, 48, 49), 'cv_scores': array([ 0.10372124,  0.07449597,  0.14518778, -0.03069902,  0.10262548]), 'avg_score': 0.07906628871886097, 'feature_names': ('x77', 'x33', 'x61', 'x26', 'x2', 'x274', 'x6', 'x28', 'x54', 'x162', 'x320', 'x315', 'x245', 'x191', 'x169', 'x317', 'x123', 'x4', 'x174', 'x16')}, 21: {'feature_idx': (0, 10, 11, 13, 14, 16, 20, 21, 22, 26, 27, 28, 29, 34, 35, 39, 42, 43, 47, 48, 49), 'cv_scores': array([ 0.10535937,  0.05351843,  0.12465801, -0.03925093,  0.17379089]), 'avg_score': 0.08361515209351156, 'feature_names': ('x77', 'x33', 'x61', 'x26', 'x2', 'x274', 'x6', 'x28', 'x54', 'x162', 'x320', 'x315', 'x245', 'x191', 'x169', 'x130', 'x317', 'x123', 'x4', 'x174', 'x16')}, 22: {'feature_idx': (0, 3, 10, 11, 13, 14, 16, 20, 21, 22, 26, 27, 28, 29, 34, 35, 39, 42, 43, 47, 48, 49), 'cv_scores': array([-0.00929287,  0.11868   ,  0.12059151,  0.0325995 ,  0.16066039]), 'avg_score': 0.08464770480787354, 'feature_names': ('x77', 'x30', 'x33', 'x61', 'x26', 'x2', 'x274', 'x6', 'x28', 'x54', 'x162', 'x320', 'x315', 'x245', 'x191', 'x169', 'x130', 'x317', 'x123', 'x4', 'x174', 'x16')}, 23: {'feature_idx': (0, 3, 10, 11, 13, 14, 16, 20, 21, 22, 26, 27, 28, 29, 34, 35, 39, 41, 42, 43, 47, 48, 49), 'cv_scores': array([0.01965015, 0.0654045 , 0.13174265, 0.06910958, 0.18570297]), 'avg_score': 0.09432197043750175, 'feature_names': ('x77', 'x30', 'x33', 'x61', 'x26', 'x2', 'x274', 'x6', 'x28', 'x54', 'x162', 'x320', 'x315', 'x245', 'x191', 'x169', 'x130', 'x182', 'x317', 'x123', 'x4', 'x174', 'x16')}, 24: {'feature_idx': (0, 3, 10, 11, 13, 14, 16, 20, 21, 22, 26, 27, 28, 29, 30, 34, 35, 39, 41, 42, 43, 47, 48, 49), 'cv_scores': array([0.03169061, 0.08280973, 0.13418048, 0.09252803, 0.18528854]), 'avg_score': 0.10529947774148221, 'feature_names': ('x77', 'x30', 'x33', 'x61', 'x26', 'x2', 'x274', 'x6', 'x28', 'x54', 'x162', 'x320', 'x315', 'x245', 'x273', 'x191', 'x169', 'x130', 'x182', 'x317', 'x123', 'x4', 'x174', 'x16')}, 25: {'feature_idx': (0, 3, 10, 11, 13, 14, 16, 20, 21, 22, 26, 27, 28, 29, 30, 33, 34, 35, 39, 41, 42, 43, 47, 48, 49), 'cv_scores': array([0.03405316, 0.08147648, 0.12022105, 0.09503429, 0.1679601 ]), 'avg_score': 0.09974901387090476, 'feature_names': ('x77', 'x30', 'x33', 'x61', 'x26', 'x2', 'x274', 'x6', 'x28', 'x54', 'x162', 'x320', 'x315', 'x245', 'x273', 'x307', 'x191', 'x169', 'x130', 'x182', 'x317', 'x123', 'x4', 'x174', 'x16')}, 26: {'feature_idx': (0, 3, 5, 10, 11, 13, 14, 16, 20, 21, 22, 26, 27, 28, 29, 30, 33, 34, 35, 39, 41, 42, 43, 47, 48, 49), 'cv_scores': array([0.03833002, 0.05159193, 0.15223242, 0.07257692, 0.17525187]), 'avg_score': 0.0979966341091858, 'feature_names': ('x77', 'x30', 'x258', 'x33', 'x61', 'x26', 'x2', 'x274', 'x6', 'x28', 'x54', 'x162', 'x320', 'x315', 'x245', 'x273', 'x307', 'x191', 'x169', 'x130', 'x182', 'x317', 'x123', 'x4', 'x174', 'x16')}, 27: {'feature_idx': (0, 3, 5, 10, 11, 13, 14, 16, 20, 21, 22, 26, 27, 28, 29, 30, 33, 34, 35, 39, 41, 42, 43, 45, 47, 48, 49), 'cv_scores': array([0.02772764, 0.07476969, 0.13879706, 0.0531081 , 0.14001874]), 'avg_score': 0.08688424512595834, 'feature_names': ('x77', 'x30', 'x258', 'x33', 'x61', 'x26', 'x2', 'x274', 'x6', 'x28', 'x54', 'x162', 'x320', 'x315', 'x245', 'x273', 'x307', 'x191', 'x169', 'x130', 'x182', 'x317', 'x123', 'x310', 'x4', 'x174', 'x16')}, 28: {'feature_idx': (0, 3, 5, 10, 11, 12, 13, 14, 16, 20, 21, 22, 26, 27, 28, 29, 30, 33, 34, 35, 39, 41, 42, 43, 45, 47, 48, 49), 'cv_scores': array([0.05499432, 0.08119205, 0.12241287, 0.02959318, 0.17423476]), 'avg_score': 0.09248543804623535, 'feature_names': ('x77', 'x30', 'x258', 'x33', 'x61', 'x306', 'x26', 'x2', 'x274', 'x6', 'x28', 'x54', 'x162', 'x320', 'x315', 'x245', 'x273', 'x307', 'x191', 'x169', 'x130', 'x182', 'x317', 'x123', 'x310', 'x4', 'x174', 'x16')}, 29: {'feature_idx': (0, 3, 5, 10, 11, 12, 13, 14, 16, 20, 21, 22, 26, 27, 28, 29, 30, 33, 34, 35, 39, 41, 42, 43, 44, 45, 47, 48, 49), 'cv_scores': array([0.05542699, 0.04692363, 0.1343709 , 0.02154198, 0.1316607 ]), 'avg_score': 0.07798484106239642, 'feature_names': ('x77', 'x30', 'x258', 'x33', 'x61', 'x306', 'x26', 'x2', 'x274', 'x6', 'x28', 'x54', 'x162', 'x320', 'x315', 'x245', 'x273', 'x307', 'x191', 'x169', 'x130', 'x182', 'x317', 'x123', 'x51', 'x310', 'x4', 'x174', 'x16')}, 30: {'feature_idx': (0, 3, 5, 10, 11, 12, 13, 14, 16, 20, 21, 22, 26, 27, 28, 29, 30, 32, 33, 34, 35, 39, 41, 42, 43, 44, 45, 47, 48, 49), 'cv_scores': array([0.04328137, 0.04559829, 0.12211965, 0.00856895, 0.13944014]), 'avg_score': 0.07180168222834102, 'feature_names': ('x77', 'x30', 'x258', 'x33', 'x61', 'x306', 'x26', 'x2', 'x274', 'x6', 'x28', 'x54', 'x162', 'x320', 'x315', 'x245', 'x273', 'x314', 'x307', 'x191', 'x169', 'x130', 'x182', 'x317', 'x123', 'x51', 'x310', 'x4', 'x174', 'x16')}}\n"
     ]
    },
    {
     "data": {
      "image/png": "[encoded data removed]",
      "text/plain": [
       "<Figure size 432x288 with 1 Axes>"
      ]
     },
     "metadata": {
      "needs_background": "light"
     },
     "output_type": "display_data"
    }
   ],
   "source": [
    "from sklearn.ensemble import RandomForestRegressor\n",
    "from mlxtend.feature_selection import SequentialFeatureSelector as SFS\n",
    "from sklearn.model_selection import train_test_split\n",
    "from sklearn.pipeline import make_pipeline\n",
    "from mlxtend.plotting import plot_sequential_feature_selection as plot_sfs\n",
    "regr = RandomForestRegressor(max_depth=10, random_state=0)\n",
    "sfs1 = SFS(regr, \n",
    "           k_features=(15, 30),\n",
    "           forward=True, \n",
    "           floating=False, \n",
    "           scoring='r2',\n",
    "           cv=5,\n",
    "           n_jobs=-1)\n",
    "\n",
    "sfs1.fit(X, Y, custom_feature_names=top50_name)\n",
    "\n",
    "print('best combination (r2: %.3f): %s\\n' % (sfs1.k_score_, sfs1.k_feature_idx_))\n",
    "print('all subsets:\\n', sfs1.subsets_)\n",
    "plot_sfs(sfs1.get_metric_dict(), kind='std_dev')\n",
    "plt.grid()\n",
    "plt.show()"
   ]
  },
  {
   "cell_type": "code",
   "execution_count": 35,
   "metadata": {},
   "outputs": [],
   "source": [
    "endl_name = ['x77', 'x30', 'x33', 'x61', 'x26', 'x2', 'x274', 'x6', 'x28', 'x54', 'x162', 'x320', 'x315', 'x245', 'x273', 'x191', 'x169', 'x130', 'x182', 'x317', 'x123', 'x4', 'x174', 'x16']"
   ]
  },
  {
   "cell_type": "code",
   "execution_count": 67,
   "metadata": {},
   "outputs": [],
   "source": [
    "X = data[endl_name]"
   ]
  },
  {
   "cell_type": "code",
   "execution_count": 68,
   "metadata": {},
   "outputs": [],
   "source": [
    "import lightgbm as lgb\n",
    "import xgboost as xgb\n",
    "from catboost import CatBoostRegressor\n",
    "from sklearn.linear_model import SGDRegressor, Lasso, Ridge\n",
    "from sklearn.preprocessing import MinMaxScaler, StandardScaler\n",
    "from sklearn.metrics import mean_absolute_error, mean_squared_error\n",
    "import warnings\n",
    "from sklearn.ensemble import RandomForestRegressor as rf\n",
    "from sklearn.model_selection import train_test_split\n",
    "from sklearn.svm import SVR\n",
    "from sklearn.pipeline import make_pipeline\n",
    "warnings.filterwarnings('ignore')"
   ]
  },
  {
   "cell_type": "code",
   "execution_count": 69,
   "metadata": {},
   "outputs": [
    {
     "name": "stdout",
     "output_type": "stream",
     "text": [
      "rf_mse_score: 0.03862037990264291\n",
      "MinMaxScaler...\n",
      "ridge_mse_score: 0.037788573244418866\n",
      "MinMaxScaler...\n",
      "sgd_mse_score: 0.0437780664617148\n",
      "Training until validation scores don't improve for 1000 rounds\n",
      "[500]\ttraining's l2: 0.0441986\tvalid_1's l2: 0.0452278\n",
      "[1000]\ttraining's l2: 0.0401288\tvalid_1's l2: 0.0429023\n",
      "[1500]\ttraining's l2: 0.0373195\tvalid_1's l2: 0.0417768\n",
      "[2000]\ttraining's l2: 0.0351906\tvalid_1's l2: 0.0413006\n",
      "[2500]\ttraining's l2: 0.0334373\tvalid_1's l2: 0.0409075\n",
      "[3000]\ttraining's l2: 0.0319604\tvalid_1's l2: 0.0408209\n",
      "[3500]\ttraining's l2: 0.0306057\tvalid_1's l2: 0.0407532\n",
      "[4000]\ttraining's l2: 0.0294022\tvalid_1's l2: 0.0407776\n",
      "Early stopping, best iteration is:\n",
      "[3299]\ttraining's l2: 0.0311308\tvalid_1's l2: 0.0407011\n",
      "lgb_mse_score: 0.040701141766917\n",
      "[0]\ttrain-mae:0.75204\teval-mae:0.76594\n",
      "Multiple eval metrics have been passed: 'eval-mae' will be used for early stopping.\n",
      "\n",
      "Will train until eval-mae hasn't improved in 1000 rounds.\n",
      "[500]\ttrain-mae:0.46667\teval-mae:0.47744\n",
      "[1000]\ttrain-mae:0.29737\teval-mae:0.30684\n",
      "[1500]\ttrain-mae:0.19570\teval-mae:0.21786\n",
      "[2000]\ttrain-mae:0.13733\teval-mae:0.17978\n",
      "[2500]\ttrain-mae:0.10575\teval-mae:0.16522\n",
      "[3000]\ttrain-mae:0.08864\teval-mae:0.15979\n",
      "[3500]\ttrain-mae:0.07840\teval-mae:0.15781\n",
      "[4000]\ttrain-mae:0.07130\teval-mae:0.15768\n",
      "[4500]\ttrain-mae:0.06562\teval-mae:0.15803\n",
      "Stopping. Best iteration:\n",
      "[3672]\ttrain-mae:0.07573\teval-mae:0.15758\n",
      "\n",
      "xgb_mse_score: 0.039892815\n",
      "MinMaxScaler...\n",
      "lasso_mse_score: 0.05031743440372587\n",
      "SVR_mse_score: 0.05027010218187939\n"
     ]
    }
   ],
   "source": [
    "def single_model(clf, X, Y, clf_name, class_num=1):\n",
    "    train = np.zeros((X.shape[0], class_num))\n",
    "\n",
    "    if clf_name in ['sgd', 'ridge', \"lasso\"]:\n",
    "        print('MinMaxScaler...')\n",
    "        for col in endl_name:\n",
    "            ss = MinMaxScaler()\n",
    "            ss.fit(X[[col]].values)\n",
    "            X[col] = ss.transform(X[[col]].values).flatten()\n",
    "\n",
    "    x_train, x_test, y_train, y_test = train_test_split(X, Y, test_size=0.3, random_state=0)\n",
    "\n",
    "\n",
    "    if clf_name == \"lgb\":\n",
    "        train_matrix = clf.Dataset(x_train, label=y_train)\n",
    "        valid_matrix = clf.Dataset(x_test, label=y_test)\n",
    "        data_matrix = clf.Dataset(X, label=Y)\n",
    "\n",
    "        params = {\n",
    "            'boosting_type': 'gbdt',\n",
    "            'objective': 'mse',\n",
    "            'min_child_weight': 5,\n",
    "            'num_leaves': 2 ** 8,\n",
    "            'feature_fraction': 0.5,\n",
    "            'bagging_fraction': 0.5,\n",
    "            'bagging_freq': 1,\n",
    "            'learning_rate': 0.001,\n",
    "            'seed': 2020\n",
    "        }\n",
    "\n",
    "        model = clf.train(params, train_matrix, 50000, valid_sets=[train_matrix, valid_matrix], verbose_eval=500,\n",
    "                          early_stopping_rounds=1000)\n",
    "        model2 = clf.train(params, data_matrix, model.best_iteration)\n",
    "        val_pred = model.predict(x_test, num_iteration=model2.best_iteration).reshape(-1, 1)\n",
    "        y_pred = model.predict(X, num_iteration=model2.best_iteration).reshape(-1, 1)\n",
    "        # test_pred = model.predict(test_x, num_iteration=model2.best_iteration).reshape(-1, 1)\n",
    "\n",
    "    if clf_name == \"xgb\":\n",
    "        train_matrix = clf.DMatrix(x_train, label=y_train, missing=np.nan)\n",
    "        valid_matrix = clf.DMatrix(x_test, label=y_test, missing=np.nan)\n",
    "        data_matrix = clf.DMatrix(X, label=Y)\n",
    "        # test_matrix = clf.DMatrix(test_x, label=y_test, missing=np.nan)\n",
    "        params = {'booster': 'gbtree',\n",
    "                  'n_estimators' : 1,\n",
    "                  'eval_metric': 'mae',\n",
    "                  'min_child_weight': 5,\n",
    "                  'max_depth': 5,\n",
    "                  'subsample': 0.8041,\n",
    "                  'colsample_bytree': 0.9289,\n",
    "                  'eta': 0.001,\n",
    "                  'seed': 2020,\n",
    "                  'nthread': 36,\n",
    "                  'silent': True,\n",
    "                  }\n",
    "\n",
    "        watchlist = [(train_matrix, 'train'), (valid_matrix, 'eval')]\n",
    "\n",
    "        model = clf.train(params, train_matrix, num_boost_round=50000, evals=watchlist, verbose_eval=500,\n",
    "                          early_stopping_rounds=1000)\n",
    "        val_pred = model.predict(valid_matrix, ntree_limit=model.best_ntree_limit).reshape(-1, 1)\n",
    "        y_pred = model.predict(data_matrix, ntree_limit=model.best_ntree_limit).reshape(-1, 1)\n",
    "\n",
    "    if clf_name == \"cat\":\n",
    "        params = {'learning_rate': 0.001, 'depth': 5, 'l2_leaf_reg': 10, 'bootstrap_type': 'Bernoulli',\n",
    "                  'od_type': 'Iter', 'od_wait': 50, 'random_seed': 11, 'allow_writing_files': False}\n",
    "\n",
    "        model = clf(iterations=20000, **params)\n",
    "        model.fit(x_train, y_train, eval_set=(x_test, y_test),\n",
    "                  cat_features=[], use_best_model=True, verbose=500)\n",
    "\n",
    "        val_pred = model.predict(x_test)\n",
    "        # test_pred = model.predict(test_x)\n",
    "\n",
    "    if clf_name == 'rf':\n",
    "        params = {\n",
    "            \"max_depth\": 9,\n",
    "            \"max_features\": 0.4717,\n",
    "            'min_samples_split': 15,\n",
    "            'n_estimators': 36\n",
    "        }\n",
    "        model = clf(**params)\n",
    "        model.fit(x_train, y_train)\n",
    "        val_pred = model.predict(x_test)\n",
    "        y_pred = model.predict(X)\n",
    "\n",
    "\n",
    "    if clf_name == \"sgd\":\n",
    "        params = {\n",
    "            'loss': 'squared_loss',\n",
    "            'penalty': 'l2',\n",
    "            'alpha': 0.00001,\n",
    "            'random_state': 2020,\n",
    "        }\n",
    "        model = SGDRegressor(**params)\n",
    "        model.fit(x_train, y_train)\n",
    "        val_pred = model.predict(x_test)\n",
    "        y_pred = model.predict(X)\n",
    "\n",
    "    if clf_name == \"ridge\":\n",
    "        params = {\n",
    "            'alpha': 1.0,\n",
    "            'random_state': 2020,\n",
    "        }\n",
    "        model = Ridge(**params)\n",
    "        model.fit(x_train, y_train)\n",
    "        val_pred = model.predict(x_test)\n",
    "        y_pred = model.predict(X)\n",
    "        \n",
    "    if clf_name == \"lasso\":\n",
    "        model = Lasso(alpha=0.1)\n",
    "        model.fit(x_train, y_train)\n",
    "        val_pred = model.predict(x_test)\n",
    "        y_pred = model.predict(X)\n",
    "        \n",
    "    if clf_name == \"SVR\":\n",
    "        model = make_pipeline(StandardScaler(), SVR(C=1.0, epsilon=0.2))\n",
    "        model.fit(x_train, y_train)\n",
    "        val_pred = model.predict(x_test)\n",
    "        y_pred = model.predict(X)\n",
    "        \n",
    "    print(\"%s_mse_score:\" % clf_name, mean_squared_error(y_test, val_pred))\n",
    "\n",
    "    return val_pred, mean_squared_error(y_test, val_pred), y_pred\n",
    "\n",
    "\n",
    "def lgb_model(x, y):\n",
    "    lgb_test, lgb_mse, y_pred = single_model(lgb, x, y, \"lgb\")\n",
    "    return lgb_test, lgb_mse, y_pred\n",
    "\n",
    "def lasso_model(x, y):\n",
    "    lasso_test, lasso_mse, lasso_y = single_model(Lasso, x, y, \"lasso\")\n",
    "    return lasso_test, lasso_mse, lasso_y\n",
    "\n",
    "def SVR_model(x, y):\n",
    "    svr_test, svr_mse, svr_y = single_model(SVR, x, y, \"SVR\")\n",
    "    return svr_test, svr_mse, svr_y\n",
    "\n",
    "def rf_model(x, y,):\n",
    "    rf_test, rf_mse, y_pred = single_model(rf, x, y,'rf')\n",
    "    return rf_test, rf_mse, y_pred\n",
    "\n",
    "def xgb_model(x, y):\n",
    "    xgb_test, xgb_mse, y_pred = single_model(xgb, x, y, \"xgb\")\n",
    "    return xgb_test, xgb_mse, y_pred\n",
    "\n",
    "\n",
    "def cat_model(x, y):\n",
    "    cat_test, cat_mse = single_model(CatBoostRegressor, x, y, \"cat\")\n",
    "    return cat_test, cat_mse\n",
    "\n",
    "\n",
    "def sgd_model(x, y,):\n",
    "    sgd_test, sgd_mse, y_pred = single_model(SGDRegressor, x, y, \"sgd\")\n",
    "    return sgd_test, sgd_mse, y_pred\n",
    "\n",
    "\n",
    "def ridge_model(x, y):\n",
    "    ridge_test, ridge_mse, y_pred = single_model(Ridge, x, y, \"ridge\")\n",
    "    return ridge_test, ridge_mse, y_pred\n",
    "\n",
    "rf_test, rf_mse, y_rf = rf_model(X, Y)\n",
    "\n",
    "ridge_test, ridge_mse, y_ridge  = ridge_model(X, Y)\n",
    "\n",
    "sgd_test, sgd_mse, y_sgd = sgd_model(X, Y)\n",
    "\n",
    "lgb_test, lgb_mse, y_lgd = lgb_model(X, Y)\n",
    "\n",
    "xgb_test, xgb_mse, y_xgb = xgb_model(X, Y)\n",
    "\n",
    "lasso_test, lasso_mse, y_lasso = lasso_model(X, Y)\n",
    "\n",
    "svr_test, svr_mse, y_svr = SVR_model(X, Y) "
   ]
  },
  {
   "cell_type": "code",
   "execution_count": 66,
   "metadata": {},
   "outputs": [
    {
     "name": "stdout",
     "output_type": "stream",
     "text": [
      "0.04114336709949009 0.03778789529612342 0.0437780664617148 0.040701141766917 0.039892815 0.05027010218187939 0.05031743440372587\n"
     ]
    }
   ],
   "source": [
    "print(rf_mse, ridge_mse, sgd_mse, lgb_mse, xgb_mse, svr_mse, lasso_mse)"
   ]
  },
  {
   "cell_type": "code",
   "execution_count": 50,
   "metadata": {},
   "outputs": [
    {
     "name": "stdout",
     "output_type": "stream",
     "text": [
      "0.0406564853358256 0.03778789529612342 0.0437780664617148 0.040701141766917 0.039892815\n"
     ]
    }
   ],
   "source": [
    "print(rf_mse, ridge_mse, sgd_mse, lgb_mse, xgb_mse)"
   ]
  },
  {
   "cell_type": "code",
   "execution_count": 52,
   "metadata": {},
   "outputs": [
    {
     "name": "stdout",
     "output_type": "stream",
     "text": [
      "0.040996289358658594 0.03778789529612342 0.0437780664617148 0.040701141766917 0.039892815\n"
     ]
    }
   ],
   "source": [
    "print(rf_mse, ridge_mse, sgd_mse, lgb_mse, xgb_mse)"
   ]
  },
  {
   "cell_type": "code",
   "execution_count": 53,
   "metadata": {},
   "outputs": [
    {
     "data": {
      "text/plain": [
       "0.24349211388885106"
      ]
     },
     "execution_count": 53,
     "metadata": {},
     "output_type": "execute_result"
    }
   ],
   "source": [
    "from sklearn.metrics import r2_score\n",
    "r2_score(Y, y_ridge)"
   ]
  },
  {
   "cell_type": "code",
   "execution_count": null,
   "metadata": {},
   "outputs": [],
   "source": []
  },
  {
   "cell_type": "code",
   "execution_count": null,
   "metadata": {},
   "outputs": [],
   "source": []
  }
 ],
 "metadata": {
  "kernelspec": {
   "display_name": "Python 3",
   "language": "python",
   "name": "python3"
  },
  "language_info": {
   "codemirror_mode": {
    "name": "ipython",
    "version": 3
   },
   "file_extension": ".py",
   "mimetype": "text/x-python",
   "name": "python",
   "nbconvert_exporter": "python",
   "pygments_lexer": "ipython3",
   "version": "3.7.6"
  }
 },
 "nbformat": 4,
 "nbformat_minor": 4
}